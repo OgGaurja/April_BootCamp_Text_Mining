{
 "cells": [
  {
   "cell_type": "code",
   "execution_count": 1,
   "id": "2862365d-9a40-4b8f-a04a-50dc49f403c4",
   "metadata": {},
   "outputs": [],
   "source": [
    "import pandas as pd \n",
    "import re\n",
    "import matplotlib.pyplot as plt\n",
    "import numpy as np\n",
    "from pathlib import Path\n",
    "import sklearn\n",
    "from sklearn.feature_extraction.text import CountVectorizer"
   ]
  },
  {
   "cell_type": "code",
   "execution_count": 2,
   "id": "61b88946-e060-4c9f-8796-9a4f12914211",
   "metadata": {},
   "outputs": [],
   "source": [
    "import nltk\n",
    "from nltk.corpus import stopwords\n",
    "from nltk.stem import PorterStemmer\n",
    "from nltk.tokenize import word_tokenize\n",
    "import gensim\n",
    "from gensim import models\n",
    "from gensim import corpora, models\n",
    "from gensim.models.coherencemodel import CoherenceModel"
   ]
  },
  {
   "cell_type": "code",
   "execution_count": 3,
   "id": "e85279c2-bf81-42ed-b57d-775679633d77",
   "metadata": {},
   "outputs": [],
   "source": [
    "####### Notebook 3 imports ###########################\n",
    "import pyLDAvis\n",
    "import pyLDAvis.gensim"
   ]
  },
  {
   "cell_type": "code",
   "execution_count": 4,
   "id": "4a1d70f0-f0f6-49f4-8622-9d90f90f9ebb",
   "metadata": {},
   "outputs": [
    {
     "name": "stderr",
     "output_type": "stream",
     "text": [
      "[nltk_data] Downloading package punkt to /home/codespace/nltk_data...\n",
      "[nltk_data]   Package punkt is already up-to-date!\n",
      "[nltk_data] Downloading package stopwords to\n",
      "[nltk_data]     /home/codespace/nltk_data...\n",
      "[nltk_data]   Package stopwords is already up-to-date!\n"
     ]
    },
    {
     "data": {
      "text/plain": [
       "True"
      ]
     },
     "execution_count": 4,
     "metadata": {},
     "output_type": "execute_result"
    }
   ],
   "source": [
    "nltk.download([\"punkt\", \"stopwords\"])"
   ]
  },
  {
   "cell_type": "markdown",
   "id": "a16c4f22-34af-46c3-b8ff-74b6c1ecc3b0",
   "metadata": {},
   "source": [
    "# Import Data"
   ]
  },
  {
   "cell_type": "code",
   "execution_count": 5,
   "id": "288adf9c-5bbb-42b8-8434-ea4932adc2ac",
   "metadata": {},
   "outputs": [],
   "source": [
    "data_dir = \"Text-Mining-main/data/NYT_article_data.csv\"\n",
    "df = pd.read_csv(data_dir)"
   ]
  },
  {
   "cell_type": "code",
   "execution_count": 6,
   "id": "49815589-c089-47f4-8b4a-3a4958c85630",
   "metadata": {},
   "outputs": [
    {
     "name": "stdout",
     "output_type": "stream",
     "text": [
      "Index(['web_url', 'headline', 'snippet', 'word_count', 'source',\n",
      "       'type_of_material', 'date', 'id'],\n",
      "      dtype='object')\n",
      "['Nick Kyrgios started his Brisbane Open title defense with a battling 7-6(5) 5-7 7-6(5) victory over American Ryan Harrison in the opening round on Tuesday.', \"British police confirmed on Tuesday they were treating a stabbing attack which injured three people at Manchester's Victoria train station as a terrorist investigation, and were searching an address in the Cheetham Hill area of the city.\", 'Marcellus Wiley is still on the fence about letting his young son play football. But the former NFL defensive end and Fox Sports personality tells PodcastOne Sports Now that he likes what the NFL is doing to try and make football a safer game, des...']\n"
     ]
    }
   ],
   "source": [
    "print(df.columns)\n",
    "reviews = list(df[\"snippet\"])\n",
    "print(reviews[:3])"
   ]
  },
  {
   "cell_type": "code",
   "execution_count": 7,
   "id": "c811b58f-c841-4446-bba9-00506d52663b",
   "metadata": {},
   "outputs": [
    {
     "name": "stdout",
     "output_type": "stream",
     "text": [
      "['i', 'me', 'my', 'myself', 'we']\n"
     ]
    },
    {
     "name": "stderr",
     "output_type": "stream",
     "text": [
      "[nltk_data] Downloading package stopwords to\n",
      "[nltk_data]     /home/codespace/nltk_data...\n",
      "[nltk_data]   Package stopwords is already up-to-date!\n",
      "[nltk_data] Downloading package punkt to /home/codespace/nltk_data...\n",
      "[nltk_data]   Package punkt is already up-to-date!\n"
     ]
    }
   ],
   "source": [
    "nltk.download([\"stopwords\", \"punkt\"])\n",
    "stopwords_list = stopwords.words(\"english\")\n",
    "print(stopwords_list[:5])"
   ]
  },
  {
   "cell_type": "code",
   "execution_count": 8,
   "id": "1528863a-01de-45b0-b431-d4c611fda2a4",
   "metadata": {},
   "outputs": [
    {
     "name": "stdout",
     "output_type": "stream",
     "text": [
      "[['nick', 'kyrgio', 'start', 'brisban', 'open', 'titl', 'defens', 'battl', 'victori', 'american', 'ryan', 'harrison', 'open', 'round', 'tuesday'], ['british', 'polic', 'confirm', 'tuesday', 'treat', 'stab', 'attack', 'injur', 'three', 'peopl', 'manchest', 'victoria', 'train', 'station', 'terrorist', 'investig', 'search', 'address', 'cheetham', 'hill', 'area', 'citi'], ['marcellu', 'wiley', 'still', 'fenc', 'let', 'young', 'son', 'play', 'footbal', 'former', 'nfl', 'defens', 'end', 'fox', 'sport', 'person', 'tell', 'podcaston', 'sport', 'like', 'nfl', 'tri', 'make', 'footbal', 'safer', 'game', 'de'], ['still', 'reckon', 'fallout', 'emmett', 'till', 'paint', 'chasten', 'artist', 'reveal', 'controversi', 'chang', 'even', 'move', 'forward', 'new', 'galleri', 'show'], ['far', 'arik', 'ogunbowal', 'coach', 'muffet', 'mcgraw', 'concern', 'notr', 'dame', 'victori', 'louisvil', 'thursday', 'night', 'anoth', 'atlant', 'coast', 'confer', 'game', 'januari']]\n"
     ]
    }
   ],
   "source": [
    "processed_text = [\n",
    "    [\n",
    "        PorterStemmer().stem(word.lower())\n",
    "        for word in word_tokenize(text)\n",
    "        if not word.lower() in stopwords_list\n",
    "        if word.isalpha()\n",
    "    ]\n",
    "    for text in reviews\n",
    "]\n",
    "\n",
    "print(processed_text[:5])"
   ]
  },
  {
   "cell_type": "code",
   "execution_count": 9,
   "id": "54b436db-9d0f-47e9-b03f-95e5c6d05f07",
   "metadata": {},
   "outputs": [
    {
     "name": "stdout",
     "output_type": "stream",
     "text": [
      "['nick kyrgio start brisban open titl defens battl victori american ryan harrison open round tuesday', 'british polic confirm tuesday treat stab attack injur three peopl manchest victoria train station terrorist investig search address cheetham hill area citi', 'marcellu wiley still fenc let young son play footbal former nfl defens end fox sport person tell podcaston sport like nfl tri make footbal safer game de', 'still reckon fallout emmett till paint chasten artist reveal controversi chang even move forward new galleri show', 'far arik ogunbowal coach muffet mcgraw concern notr dame victori louisvil thursday night anoth atlant coast confer game januari']\n"
     ]
    }
   ],
   "source": [
    "clean_data = [' '.join(text) for text in processed_text]\n",
    "print(clean_data[:5])"
   ]
  },
  {
   "cell_type": "code",
   "execution_count": 10,
   "id": "c0803802-74fd-483c-9a20-cc95a087192a",
   "metadata": {},
   "outputs": [],
   "source": [
    "word_count = [len(text.split()) for text in clean_data]\n",
    "# print(len(word_count))\n",
    "# print(len(set(word_count)))"
   ]
  },
  {
   "cell_type": "code",
   "execution_count": 11,
   "id": "e5dd37a5-cc9b-44d8-97de-968836c28144",
   "metadata": {},
   "outputs": [
    {
     "name": "stdout",
     "output_type": "stream",
     "text": [
      "[15, 22, 27, 17, 19, 12, 5, 11, 23, 13, 15, 12, 13, 21, 19, 10, 14, 15, 12, 12, 21, 8, 18, 14, 8, 24, 11, 21, 15, 12, 15, 26, 17, 25, 17, 19, 11, 16, 16, 8, 22, 18, 19, 10, 15, 6, 20, 18, 11, 9, 24, 7, 12, 16, 24, 23, 22, 19, 13, 14, 13, 19, 22, 23, 23, 13, 7, 21, 21, 23, 6, 19, 23, 23, 12, 21, 26, 6, 7, 22, 19, 14, 25, 10, 19, 13, 22, 13, 19, 14, 25, 14, 11, 17, 20, 9, 24, 24, 16, 7, 8, 11, 26, 22, 20, 14, 15, 23, 8, 23, 23, 7, 12, 24, 15, 3, 9, 19, 14, 28, 19, 11, 21, 18, 24, 22, 4, 22, 19, 9, 10, 17, 17, 8, 24, 12, 20, 19, 15, 26, 15, 19, 23, 10, 22, 21, 22, 16, 16, 18, 22, 24, 16, 18, 22, 22, 6, 17, 7, 20, 28, 14, 24, 15, 23, 22, 17, 25, 11, 24, 21, 14, 20, 23, 20, 14, 16, 15, 8, 10, 15, 19, 14, 16, 5, 8, 9, 12, 23, 25, 20, 19, 9, 15, 20, 25, 23, 18, 22, 30, 22, 15, 14, 24, 21, 10, 7, 11, 13, 19, 19, 14, 13, 15, 20, 12, 16, 13, 12, 5, 24, 27, 10, 11, 10, 13, 22, 11, 19, 6, 21, 16, 13]\n"
     ]
    }
   ],
   "source": [
    "print(word_count)"
   ]
  },
  {
   "cell_type": "code",
   "execution_count": 12,
   "id": "67d1ad02-a5dd-4c2e-8928-19fc7e5120a3",
   "metadata": {},
   "outputs": [
    {
     "data": {
      "text/plain": [
       "<Axes: xlabel='Number of words per document', ylabel='Frequency'>"
      ]
     },
     "execution_count": 12,
     "metadata": {},
     "output_type": "execute_result"
    },
    {
     "data": {
      "image/png": "[encoded data removed]",
      "text/plain": [
       "<Figure size 640x480 with 1 Axes>"
      ]
     },
     "metadata": {},
     "output_type": "display_data"
    }
   ],
   "source": [
    "pd.Series(data=word_count).plot.hist(bins=len(set(word_count)),xlabel=\"Number of words per document\", \n",
    "    ylabel=\"Frequency\",)\n"
   ]
  },
  {
   "cell_type": "code",
   "execution_count": 13,
   "id": "20b7c568-8655-4415-9923-54b7253f7106",
   "metadata": {},
   "outputs": [],
   "source": [
    "\n",
    "# %pip install jupyterlab_vim"
   ]
  },
  {
   "cell_type": "code",
   "execution_count": 14,
   "id": "f2b4afe3-b4d2-4026-8276-ac8fce2eae26",
   "metadata": {},
   "outputs": [],
   "source": [
    "# %pip install nltk wordcloud \"black[jupyter]\""
   ]
  },
  {
   "cell_type": "code",
   "execution_count": 15,
   "id": "3e636d36-247e-4abc-b184-13f79f23e47f",
   "metadata": {},
   "outputs": [],
   "source": [
    "a = pd.DataFrame(clean_data)\n",
    "# print(a.isnull().sum())\n",
    "\n",
    "a = \"I love this movie\"\n",
    "a = word_tokenize(a)"
   ]
  },
  {
   "cell_type": "code",
   "execution_count": 16,
   "id": "ff342d4d-a433-4a01-adeb-ad8d141d5d21",
   "metadata": {},
   "outputs": [],
   "source": [
    "# print(a)\n",
    "# print(list(df[\"snippet\"]))"
   ]
  },
  {
   "cell_type": "code",
   "execution_count": 17,
   "id": "29ac90aa-16e1-43c3-9da1-81854c0df747",
   "metadata": {},
   "outputs": [
    {
     "name": "stdout",
     "output_type": "stream",
     "text": [
      "[15 22 27 17 19 12  5 11 23 13 15 12 13 21 19 10 14 15 12 12 21  8 18 14\n",
      "  8 24 11 21 15 12 15 26 17 25 17 19 11 16 16  8 22 18 19 10 15  6 20 18\n",
      " 11  9 24  7 12 16 24 23 22 19 13 14 13 19 22 23 23 13  7 21 21 23  6 19\n",
      " 23 23 12 21 26  6  7 22 19 14 25 10 19 13 22 13 19 14 25 14 11 17 20  9\n",
      " 24 24 16  7  8 11 26 22 20 14 15 23  8 23 23  7 12 24 15  3  9 19 14 28\n",
      " 19 11 21 18 24 22  4 22 19  9 10 17 17  8 24 12 20 19 15 26 15 19 23 10\n",
      " 22 21 22 16 16 18 22 24 16 18 22 22  6 17  7 20 28 14 24 15 23 22 17 25\n",
      " 11 24 21 14 20 23 20 14 16 15  8 10 15 19 14 16  5  8  9 12 23 25 20 19\n",
      "  9 15 20 25 23 18 22 30 22 15 14 24 21 10  7 11 13 19 19 14 13 15 20 12\n",
      " 16 13 12  5 24 27 10 11 10 13 22 11 19  6 21 16 13]\n"
     ]
    }
   ],
   "source": [
    "word_count_array = np.array(word_count)\n",
    "print(word_count_array)"
   ]
  },
  {
   "cell_type": "code",
   "execution_count": 18,
   "id": "8cc24dca-25f9-4dfe-9a3f-f35482eff7a1",
   "metadata": {},
   "outputs": [
    {
     "name": "stdout",
     "output_type": "stream",
     "text": [
      "233\n"
     ]
    }
   ],
   "source": [
    "df_array = np.array(clean_data)\n",
    "# print(df_array[:6])\n",
    "print(len(df_array))"
   ]
  },
  {
   "cell_type": "markdown",
   "id": "707791d3-6e23-45d3-8499-e4913a9d25bf",
   "metadata": {},
   "source": [
    "### Removing entries having smaller number of words in them"
   ]
  },
  {
   "cell_type": "code",
   "execution_count": 19,
   "id": "ec118247-8da5-4b1c-a02f-36a9bf1cd81e",
   "metadata": {},
   "outputs": [
    {
     "name": "stdout",
     "output_type": "stream",
     "text": [
      "233\n"
     ]
    }
   ],
   "source": [
    "mask = np.where(word_count_array >= 5,True, False)\n",
    "print(len(mask))\n",
    "# print(mask)\n",
    "## Now we got indices which we need\n",
    "## make that df array now\n",
    "\n"
   ]
  },
  {
   "cell_type": "code",
   "execution_count": 20,
   "id": "0466f639-f1d0-4d35-8185-f49224871c2d",
   "metadata": {},
   "outputs": [],
   "source": [
    "## contains strings with more than 5 words\n",
    "df_array = df_array[mask]"
   ]
  },
  {
   "cell_type": "code",
   "execution_count": 21,
   "id": "06088f8a-cedf-4eb9-b255-45052c9e6c6e",
   "metadata": {},
   "outputs": [],
   "source": [
    "# print(df_array)"
   ]
  },
  {
   "cell_type": "markdown",
   "id": "3950a445-6e64-41a4-9d64-c6c038ab8427",
   "metadata": {},
   "source": [
    "### Saving processed text"
   ]
  },
  {
   "cell_type": "code",
   "execution_count": 22,
   "id": "c037655b-9a52-4a59-9d2f-917c3683bc57",
   "metadata": {},
   "outputs": [
    {
     "data": {
      "text/plain": [
       "25007"
      ]
     },
     "execution_count": 22,
     "metadata": {},
     "output_type": "execute_result"
    }
   ],
   "source": [
    "## Using pathlib\n",
    "Path('clean_df.txt').write_text(\"\\n\".join(df_array))  "
   ]
  },
  {
   "cell_type": "markdown",
   "id": "52c9c170-e784-42b2-8655-ca4d57c56e0b",
   "metadata": {},
   "source": [
    "## CountVectorizer"
   ]
  },
  {
   "cell_type": "code",
   "execution_count": 23,
   "id": "65529a30-b925-46ac-a955-cc72ad8e8ebb",
   "metadata": {},
   "outputs": [
    {
     "name": "stdout",
     "output_type": "stream",
     "text": [
      "8689\n",
      "231\n"
     ]
    }
   ],
   "source": [
    "cv = CountVectorizer(ngram_range= (1,3))\n",
    "X = cv.fit_transform(df_array).toarray()\n",
    "y = cv.get_feature_names_out()\n",
    "print(len(y))\n",
    "\n",
    "## Number of words ==> 1921\n",
    "## In number of sentences ==> 231\n",
    "print(len(X))"
   ]
  },
  {
   "cell_type": "code",
   "execution_count": 24,
   "id": "e87eec02-4813-448f-9348-c1d050da72c1",
   "metadata": {},
   "outputs": [],
   "source": [
    "DTM = pd.DataFrame(X, columns= y)\n",
    "# DTM.head()"
   ]
  },
  {
   "cell_type": "markdown",
   "id": "8aed6412-6a3f-4795-92e0-ec4c2e9ab5e6",
   "metadata": {
    "jp-MarkdownHeadingCollapsed": true
   },
   "source": [
    "### Understand this ??"
   ]
  },
  {
   "cell_type": "code",
   "execution_count": 25,
   "id": "c481602e-83de-463a-9662-c0e1a6b56dcc",
   "metadata": {},
   "outputs": [
    {
     "data": {
      "text/plain": [
       "[('said', 38),\n",
       " ('new', 36),\n",
       " ('presid', 28),\n",
       " ('year', 27),\n",
       " ('friday', 22),\n",
       " ('govern', 22),\n",
       " ('time', 18),\n",
       " ('tuesday', 17),\n",
       " ('like', 15),\n",
       " ('monday', 15)]"
      ]
     },
     "execution_count": 25,
     "metadata": {},
     "output_type": "execute_result"
    }
   ],
   "source": [
    "sorted(DTM.sum().to_dict().items() , reverse=True , key = lambda kv: kv[1] )[:10]"
   ]
  },
  {
   "cell_type": "markdown",
   "id": "b9e8ac2f-9a73-4a9c-a9bc-155df70675f1",
   "metadata": {
    "jp-MarkdownHeadingCollapsed": true
   },
   "source": [
    "### Freq Dist Probability"
   ]
  },
  {
   "cell_type": "code",
   "execution_count": 26,
   "id": "7cf3c159-317e-4eb9-848a-9e6cc0023eea",
   "metadata": {},
   "outputs": [],
   "source": [
    "from nltk.probability import FreqDist"
   ]
  },
  {
   "cell_type": "code",
   "execution_count": 27,
   "id": "48905063-6092-4a11-acd1-063c460403fe",
   "metadata": {},
   "outputs": [],
   "source": [
    "corpus_freq_dist=nltk.FreqDist(\n",
    "    dict(sorted(DTM.sum().to_dict().items() , \n",
    "    reverse=True ,\n",
    "    key = lambda kv: kv[1])\n",
    ")\n",
    ")\n"
   ]
  },
  {
   "cell_type": "code",
   "execution_count": 28,
   "id": "07f79a2a-cf87-486e-952d-794490787ea9",
   "metadata": {},
   "outputs": [],
   "source": [
    "# print(corpus_freq_dist.items())"
   ]
  },
  {
   "cell_type": "code",
   "execution_count": 29,
   "id": "ea8478f3-758e-4ef8-b78f-00567ced54ed",
   "metadata": {},
   "outputs": [],
   "source": [
    "# plt.figure(figsize=(50,10))\n",
    "# corpus_freq_dist.plot()"
   ]
  },
  {
   "cell_type": "markdown",
   "id": "37d8e875-8378-4416-ba05-c1427c295399",
   "metadata": {},
   "source": [
    "## Making histogram"
   ]
  },
  {
   "cell_type": "code",
   "execution_count": 30,
   "id": "4492784b-6a68-4320-8e58-345d15446d1e",
   "metadata": {},
   "outputs": [],
   "source": [
    "word_freq = pd.Series(   \n",
    "    dict(\n",
    "        sorted(DTM.sum().to_dict().items() , \n",
    "        reverse=True ,\n",
    "        key = lambda kv: kv[1])\n",
    "        )\n",
    "    )\n"
   ]
  },
  {
   "cell_type": "code",
   "execution_count": 31,
   "id": "47a17965-702b-4a1c-8d40-dfa62f797b44",
   "metadata": {},
   "outputs": [
    {
     "data": {
      "text/plain": [
       "said                    38\n",
       "new                     36\n",
       "presid                  28\n",
       "year                    27\n",
       "friday                  22\n",
       "                        ..\n",
       "zimbabw presid           1\n",
       "zimbabw presid doubl     1\n",
       "zykera                   1\n",
       "zykera rice              1\n",
       "zykera rice ad           1\n",
       "Length: 8689, dtype: int64"
      ]
     },
     "execution_count": 31,
     "metadata": {},
     "output_type": "execute_result"
    }
   ],
   "source": [
    "word_freq"
   ]
  },
  {
   "cell_type": "code",
   "execution_count": 32,
   "id": "e6713355-4ed9-40be-af7d-c5a506c1f6fa",
   "metadata": {},
   "outputs": [
    {
     "data": {
      "image/png": "[encoded data removed]",
      "text/plain": [
       "<Figure size 640x480 with 1 Axes>"
      ]
     },
     "metadata": {},
     "output_type": "display_data"
    }
   ],
   "source": [
    "ax = word_freq[:15].sort_values(ascending=True).plot.barh()\n",
    "for i in ax.containers:\n",
    "    ax.bar_label(i, fmt=\" %.0f\")"
   ]
  },
  {
   "cell_type": "markdown",
   "id": "7d7a9cb4-d4ac-4eb4-9d03-241392e0e847",
   "metadata": {},
   "source": [
    "## Ngram ????\n",
    "## how many words makes one token\n",
    "## Unigram, BiGrams"
   ]
  },
  {
   "cell_type": "code",
   "execution_count": 33,
   "id": "bda36063-1817-452c-9241-cfa3d67bdcb1",
   "metadata": {},
   "outputs": [
    {
     "name": "stdout",
     "output_type": "stream",
     "text": [
      "['nick kyrgio start brisban open titl defens battl victori american ryan harrison open round tuesday'\n",
      " 'british polic confirm tuesday treat stab attack injur three peopl manchest victoria train station terrorist investig search address cheetham hill area citi'\n",
      " 'marcellu wiley still fenc let young son play footbal former nfl defens end fox sport person tell podcaston sport like nfl tri make footbal safer game de'\n",
      " 'still reckon fallout emmett till paint chasten artist reveal controversi chang even move forward new galleri show'\n",
      " 'far arik ogunbowal coach muffet mcgraw concern notr dame victori louisvil thursday night anoth atlant coast confer game januari']\n"
     ]
    }
   ],
   "source": [
    "print(df_array[:5])"
   ]
  },
  {
   "cell_type": "code",
   "execution_count": 34,
   "id": "a879374b-e01c-43b5-a6c3-f140fa38a933",
   "metadata": {},
   "outputs": [],
   "source": [
    "from wordcloud import WordCloud"
   ]
  },
  {
   "cell_type": "code",
   "execution_count": 35,
   "id": "a6efe80e-b1cc-4e5c-a6c6-d4a2eb98717d",
   "metadata": {},
   "outputs": [],
   "source": [
    "# wordcloud = WordCloud(background_color=\"white\")\n",
    "# wordcloud = wordcloud.generate(\" \".join(df_array))\n",
    "# plt.figure(figsize= (27,20)) # Plot the cloud using matplotlib\n",
    "# plt.imshow(wordcloud, interpolation=\"bilinear\")\n",
    "# plt.axis(\"off\")"
   ]
  },
  {
   "cell_type": "markdown",
   "id": "a036aaaf-7f46-4d16-9726-9cbf02172433",
   "metadata": {},
   "source": [
    "## TfIDf Notebook"
   ]
  },
  {
   "cell_type": "code",
   "execution_count": 36,
   "id": "9f4acab3-7963-4490-a5c0-4066c076bac3",
   "metadata": {},
   "outputs": [
    {
     "name": "stdout",
     "output_type": "stream",
     "text": [
      "['nick kyrgio start brisban open titl defens battl victori american ryan harrison open round tuesday'\n",
      " 'british polic confirm tuesday treat stab attack injur three peopl manchest victoria train station terrorist investig search address cheetham hill area citi'\n",
      " 'marcellu wiley still fenc let young son play footbal former nfl defens end fox sport person tell podcaston sport like nfl tri make footbal safer game de'\n",
      " 'still reckon fallout emmett till paint chasten artist reveal controversi chang even move forward new galleri show'\n",
      " 'far arik ogunbowal coach muffet mcgraw concern notr dame victori louisvil thursday night anoth atlant coast confer game januari']\n"
     ]
    }
   ],
   "source": [
    "print(df_array[:5])\n"
   ]
  },
  {
   "cell_type": "markdown",
   "id": "925a4972-f060-4df2-b952-e58e75551157",
   "metadata": {},
   "source": [
    "## Gensim"
   ]
  },
  {
   "cell_type": "code",
   "execution_count": 37,
   "id": "1d320b0e-0c44-4a43-914f-7d49459b92b9",
   "metadata": {},
   "outputs": [],
   "source": [
    "texts = [['human', 'interface', 'computer']]\n",
    "dct = gensim.corpora.Dictionary(texts)  # initialize a Dictionary\n",
    "\n",
    "\n",
    "\n",
    "# dct.add_documents([[\"cat\", \"say\", \"meow\"], [\"dog\"]])  # add more document (extend the vocabulary)\n",
    "# dct.doc2bow([\"dog\", \"computer\", \"non_existent_word\"])\n",
    "# [(0, 1), (6, 1)]"
   ]
  },
  {
   "cell_type": "code",
   "execution_count": 38,
   "id": "178635b2-e078-406a-a34c-628b2e531e90",
   "metadata": {},
   "outputs": [
    {
     "data": {
      "text/plain": [
       "[(0, 'computer'), (1, 'human'), (2, 'interface')]"
      ]
     },
     "execution_count": 38,
     "metadata": {},
     "output_type": "execute_result"
    }
   ],
   "source": [
    "list(dct.items())"
   ]
  },
  {
   "cell_type": "code",
   "execution_count": 39,
   "id": "55f5f00e-6d44-4bc3-8c02-f3a0eed3e907",
   "metadata": {},
   "outputs": [],
   "source": [
    "dictionary = gensim.corpora.Dictionary([sentence.split() for sentence in df_array])"
   ]
  },
  {
   "cell_type": "code",
   "execution_count": 40,
   "id": "9e20deeb-7869-44dc-8901-e3a6509d9cba",
   "metadata": {},
   "outputs": [
    {
     "data": {
      "text/plain": [
       "[(0, 'american'), (1, 'battl'), (2, 'brisban'), (3, 'defens'), (4, 'harrison')]"
      ]
     },
     "execution_count": 40,
     "metadata": {},
     "output_type": "execute_result"
    }
   ],
   "source": [
    "list(dictionary.items())[:5]"
   ]
  },
  {
   "cell_type": "markdown",
   "id": "1c369f88-01f3-4186-95df-1b163688d8db",
   "metadata": {},
   "source": [
    "## islice() Method ??"
   ]
  },
  {
   "cell_type": "code",
   "execution_count": 41,
   "id": "55a449f5-a44c-4c38-8260-eb99340003c4",
   "metadata": {},
   "outputs": [
    {
     "data": {
      "text/plain": [
       "200"
      ]
     },
     "execution_count": 41,
     "metadata": {},
     "output_type": "execute_result"
    }
   ],
   "source": [
    "## 1925 to 200 \n",
    "dictionary.filter_extremes(no_below= 4, no_above= 0.5, keep_n = 200)\n",
    "len(list(dictionary.items()))"
   ]
  },
  {
   "cell_type": "code",
   "execution_count": 42,
   "id": "c69436e9-b74f-4361-a801-0f9834a698cd",
   "metadata": {},
   "outputs": [
    {
     "data": {
      "text/plain": [
       "200"
      ]
     },
     "execution_count": 42,
     "metadata": {},
     "output_type": "execute_result"
    }
   ],
   "source": [
    "len(dictionary.items())\n",
    "#### Dictionary contains important words now "
   ]
  },
  {
   "cell_type": "markdown",
   "id": "a46ee299-d553-44c6-92bc-0c69dddfb04c",
   "metadata": {},
   "source": [
    "## Converting to Bag of Words "
   ]
  },
  {
   "cell_type": "code",
   "execution_count": 43,
   "id": "f4cafa8c-6a85-40bf-9fc8-2aa01a19a39b",
   "metadata": {},
   "outputs": [],
   "source": [
    "# df_clean = [ text.split() for text in df_array]"
   ]
  },
  {
   "cell_type": "code",
   "execution_count": 44,
   "id": "fa603e01-3b35-42d6-bc22-f48e360ad83b",
   "metadata": {},
   "outputs": [],
   "source": [
    "bow_corpus = [ dictionary.doc2bow(doc.split()) for doc in df_array]\n"
   ]
  },
  {
   "cell_type": "code",
   "execution_count": 45,
   "id": "a9bbb959-6376-4208-a22b-069d91c5572a",
   "metadata": {},
   "outputs": [
    {
     "data": {
      "text/plain": [
       "'british polic confirm tuesday treat stab attack injur three peopl manchest victoria train station terrorist investig search address cheetham hill area citi'"
      ]
     },
     "execution_count": 45,
     "metadata": {},
     "output_type": "execute_result"
    }
   ],
   "source": [
    "df_array[1]"
   ]
  },
  {
   "cell_type": "code",
   "execution_count": 46,
   "id": "3bd28ee9-7eb8-48c7-b2c1-feaded0dd200",
   "metadata": {},
   "outputs": [],
   "source": [
    "firstList = bow_corpus[1]\n",
    "firstList = [(dictionary[tup[0]], tup[1]) for tup in firstList]\n"
   ]
  },
  {
   "cell_type": "code",
   "execution_count": 47,
   "id": "e4040bf8-752c-40d1-9e30-c9fcc7a46046",
   "metadata": {},
   "outputs": [
    {
     "data": {
      "text/plain": [
       "[('tuesday', 1),\n",
       " ('attack', 1),\n",
       " ('citi', 1),\n",
       " ('investig', 1),\n",
       " ('peopl', 1),\n",
       " ('polic', 1),\n",
       " ('search', 1),\n",
       " ('three', 1)]"
      ]
     },
     "execution_count": 47,
     "metadata": {},
     "output_type": "execute_result"
    }
   ],
   "source": [
    "firstList"
   ]
  },
  {
   "cell_type": "code",
   "execution_count": 48,
   "id": "b4d164ff-f024-41d4-b1ee-bf7ba06e4eeb",
   "metadata": {},
   "outputs": [
    {
     "data": {
      "text/plain": [
       "[(0, 1), (1, 1), (2, 2), (3, 1), (4, 1), (5, 1), (6, 1)]"
      ]
     },
     "execution_count": 48,
     "metadata": {},
     "output_type": "execute_result"
    }
   ],
   "source": [
    "bow_corpus[0]"
   ]
  },
  {
   "cell_type": "markdown",
   "id": "153b409d-5cf7-4a98-93a0-42053d12c7ef",
   "metadata": {},
   "source": [
    "## Transform counts with TfidfModel"
   ]
  },
  {
   "cell_type": "code",
   "execution_count": 49,
   "id": "31813fa7-f2b8-457a-8ebf-725aebfa4b5e",
   "metadata": {},
   "outputs": [],
   "source": [
    "###### Giving bow_corpus to TfidfModel"
   ]
  },
  {
   "cell_type": "code",
   "execution_count": 50,
   "id": "079c0914-5883-4ae3-8e34-a6e103336e92",
   "metadata": {},
   "outputs": [],
   "source": [
    "tfidf = models.TfidfModel(bow_corpus)\n",
    "corpus_tfidf = tfidf[bow_corpus]"
   ]
  },
  {
   "cell_type": "code",
   "execution_count": 51,
   "id": "39659b3d-6ddb-4789-9e5b-d5acd220d274",
   "metadata": {},
   "outputs": [
    {
     "data": {
      "text/plain": [
       "[(0, 0.31942373876087665),\n",
       " (1, 0.3549009519669791),\n",
       " (2, 0.6118718565633235),\n",
       " (3, 0.3549009519669791),\n",
       " (4, 0.3059359282816618),\n",
       " (5, 0.22829905152454918),\n",
       " (6, 0.3549009519669791)]"
      ]
     },
     "execution_count": 51,
     "metadata": {},
     "output_type": "execute_result"
    }
   ],
   "source": [
    "next(iter(corpus_tfidf))"
   ]
  },
  {
   "cell_type": "markdown",
   "id": "3250f513-3175-4306-8c44-1ddce0fbb2b9",
   "metadata": {},
   "source": [
    "## Making Directory"
   ]
  },
  {
   "cell_type": "code",
   "execution_count": 52,
   "id": "2074d8af-5952-4dcf-bb80-56b00029fcb6",
   "metadata": {},
   "outputs": [],
   "source": [
    "# Path('data').mkdir()\n",
    "# Path('plot').mkdir()"
   ]
  },
  {
   "cell_type": "markdown",
   "id": "3dedc375-2004-4107-bb6b-0d1ed6445eb1",
   "metadata": {},
   "source": [
    "## Making Latent Dirichlet Allocation"
   ]
  },
  {
   "cell_type": "code",
   "execution_count": 53,
   "id": "37d954ea-2d9b-4119-8061-6e393a39006f",
   "metadata": {},
   "outputs": [],
   "source": [
    "lda_model_tfidf = gensim.models.LdaMulticore(corpus= corpus_tfidf, id2word= dictionary, num_topics=5, passes= 2, workers= 4 )"
   ]
  },
  {
   "cell_type": "code",
   "execution_count": 54,
   "id": "3601b5ef-6380-4348-b97a-72b09b718935",
   "metadata": {},
   "outputs": [
    {
     "data": {
      "text/plain": [
       "[(0,\n",
       "  '0.036*\"world\" + 0.025*\"say\" + 0.019*\"critic\" + 0.018*\"court\" + 0.016*\"year\" + 0.016*\"follow\" + 0.016*\"tuesday\" + 0.015*\"defend\" + 0.014*\"cup\" + 0.012*\"govern\"'),\n",
       " (1,\n",
       "  '0.023*\"time\" + 0.021*\"year\" + 0.021*\"latest\" + 0.020*\"local\" + 0.017*\"saturday\" + 0.015*\"leader\" + 0.015*\"head\" + 0.015*\"suspect\" + 0.014*\"leagu\" + 0.013*\"new\"'),\n",
       " (2,\n",
       "  '0.019*\"tuesday\" + 0.018*\"talk\" + 0.017*\"said\" + 0.016*\"weekend\" + 0.016*\"border\" + 0.015*\"billion\" + 0.015*\"expect\" + 0.014*\"open\" + 0.014*\"trump\" + 0.014*\"state\"'),\n",
       " (3,\n",
       "  '0.023*\"like\" + 0.021*\"close\" + 0.016*\"help\" + 0.016*\"power\" + 0.015*\"meet\" + 0.014*\"sunday\" + 0.013*\"night\" + 0.013*\"call\" + 0.013*\"even\" + 0.013*\"new\"'),\n",
       " (4,\n",
       "  '0.023*\"new\" + 0.022*\"young\" + 0.019*\"said\" + 0.018*\"thursday\" + 0.017*\"trade\" + 0.015*\"china\" + 0.014*\"one\" + 0.014*\"american\" + 0.014*\"york\" + 0.013*\"monday\"')]"
      ]
     },
     "execution_count": 54,
     "metadata": {},
     "output_type": "execute_result"
    }
   ],
   "source": [
    "(lda_model_tfidf.print_topics())"
   ]
  },
  {
   "cell_type": "markdown",
   "id": "dbdf8881-4815-413c-95e3-20c8ac52a28b",
   "metadata": {},
   "source": [
    "# Classify our documents within topics"
   ]
  },
  {
   "cell_type": "code",
   "execution_count": 55,
   "id": "31202972-eb60-4b38-979a-3f579ed9864b",
   "metadata": {},
   "outputs": [
    {
     "data": {
      "text/plain": [
       "[(0, 0.31942373876087665),\n",
       " (1, 0.3549009519669791),\n",
       " (2, 0.6118718565633235),\n",
       " (3, 0.3549009519669791),\n",
       " (4, 0.3059359282816618),\n",
       " (5, 0.22829905152454918),\n",
       " (6, 0.3549009519669791)]"
      ]
     },
     "execution_count": 55,
     "metadata": {},
     "output_type": "execute_result"
    }
   ],
   "source": [
    "df_array[0]\n",
    "\n",
    "corpus_tfidf[0]"
   ]
  },
  {
   "cell_type": "markdown",
   "id": "6fdebe76-cbdb-4f2f-aca8-2e43a6326c6f",
   "metadata": {},
   "source": [
    "# Making Coherence Model"
   ]
  },
  {
   "cell_type": "code",
   "execution_count": 56,
   "id": "9c6b1e7f-c711-42e8-bb3d-90fd6e518a6e",
   "metadata": {},
   "outputs": [],
   "source": [
    "#### Calculate Topic Coherence\n",
    "coherence_model_lda = CoherenceModel(\n",
    "   model= lda_model_tfidf,\n",
    "    texts= [ text.split() for text in df_array],\n",
    "    dictionary= dictionary,\n",
    "    coherence= \"c_v\"\n",
    ")\n",
    "\n",
    "coherence_lda = coherence_model_lda.get_coherence()"
   ]
  },
  {
   "cell_type": "code",
   "execution_count": 57,
   "id": "c4c9116d-744d-432d-a29d-6c83a5124e12",
   "metadata": {},
   "outputs": [
    {
     "data": {
      "text/plain": [
       "0.5249554669858112"
      ]
     },
     "execution_count": 57,
     "metadata": {},
     "output_type": "execute_result"
    }
   ],
   "source": [
    "coherence_lda"
   ]
  },
  {
   "cell_type": "markdown",
   "id": "8adb1cbb-d3e5-41a8-94b2-1c15f8b91ae9",
   "metadata": {},
   "source": [
    "## How many Clusters (Number of topics) do we want ??"
   ]
  },
  {
   "cell_type": "code",
   "execution_count": 58,
   "id": "8d3f9a32-6fab-491f-abb2-9175373656a1",
   "metadata": {},
   "outputs": [],
   "source": [
    "######### Coherence value vs "
   ]
  },
  {
   "cell_type": "code",
   "execution_count": 86,
   "id": "d567a92a-d181-478a-a9a8-3eca7aa6c47c",
   "metadata": {},
   "outputs": [
    {
     "ename": "TypeError",
     "evalue": "'LdaMulticore' object is not callable",
     "output_type": "error",
     "traceback": [
      "\u001b[0;31m---------------------------------------------------------------------------\u001b[0m",
      "\u001b[0;31mTypeError\u001b[0m                                 Traceback (most recent call last)",
      "Cell \u001b[0;32mIn[86], line 3\u001b[0m\n\u001b[1;32m      1\u001b[0m topic_range \u001b[38;5;241m=\u001b[39m \u001b[38;5;28mrange\u001b[39m(\u001b[38;5;241m2\u001b[39m,\u001b[38;5;241m40\u001b[39m,\u001b[38;5;241m1\u001b[39m)\n\u001b[0;32m----> 3\u001b[0m a,b \u001b[38;5;241m=\u001b[39m \u001b[38;5;28mzip\u001b[39m(\u001b[38;5;241m*\u001b[39m[ \n\u001b[1;32m      4\u001b[0m     lda_model_tfidf \u001b[38;5;241m:=\u001b[39m gensim\u001b[38;5;241m.\u001b[39mmodels\u001b[38;5;241m.\u001b[39mLdaMulticore(\n\u001b[1;32m      5\u001b[0m     corpus\u001b[38;5;241m=\u001b[39m corpus_tfidf,\n\u001b[1;32m      6\u001b[0m     id2word\u001b[38;5;241m=\u001b[39m dictionary,\n\u001b[1;32m      7\u001b[0m     num_topics\u001b[38;5;241m=\u001b[39m\u001b[38;5;241m5\u001b[39m, \n\u001b[1;32m      8\u001b[0m     passes\u001b[38;5;241m=\u001b[39m \u001b[38;5;241m2\u001b[39m, \n\u001b[1;32m      9\u001b[0m     workers\u001b[38;5;241m=\u001b[39m \u001b[38;5;241m4\u001b[39m\n\u001b[1;32m     10\u001b[0m )\n\u001b[1;32m     11\u001b[0m     ( nums,\n\u001b[1;32m     12\u001b[0m    CoherenceModel(\n\u001b[1;32m     13\u001b[0m    model\u001b[38;5;241m=\u001b[39m lda_model_tfidf,\n\u001b[1;32m     14\u001b[0m     texts\u001b[38;5;241m=\u001b[39m [ text\u001b[38;5;241m.\u001b[39msplit() \u001b[38;5;28;01mfor\u001b[39;00m text \u001b[38;5;129;01min\u001b[39;00m df_array],\n\u001b[1;32m     15\u001b[0m     dictionary\u001b[38;5;241m=\u001b[39m dictionary,\n\u001b[1;32m     16\u001b[0m     coherence\u001b[38;5;241m=\u001b[39m \u001b[38;5;124m\"\u001b[39m\u001b[38;5;124mc_v\u001b[39m\u001b[38;5;124m\"\u001b[39m\n\u001b[1;32m     17\u001b[0m )\u001b[38;5;241m.\u001b[39mget_coherence())\n\u001b[1;32m     18\u001b[0m \n\u001b[1;32m     19\u001b[0m      \u001b[38;5;28;01mfor\u001b[39;00m nums \u001b[38;5;129;01min\u001b[39;00m topic_range \n\u001b[1;32m     20\u001b[0m     ])\n",
      "Cell \u001b[0;32mIn[86], line 4\u001b[0m, in \u001b[0;36m<listcomp>\u001b[0;34m(.0)\u001b[0m\n\u001b[1;32m      1\u001b[0m topic_range \u001b[38;5;241m=\u001b[39m \u001b[38;5;28mrange\u001b[39m(\u001b[38;5;241m2\u001b[39m,\u001b[38;5;241m40\u001b[39m,\u001b[38;5;241m1\u001b[39m)\n\u001b[1;32m      3\u001b[0m a,b \u001b[38;5;241m=\u001b[39m \u001b[38;5;28mzip\u001b[39m(\u001b[38;5;241m*\u001b[39m[ \n\u001b[0;32m----> 4\u001b[0m     lda_model_tfidf \u001b[38;5;241m:=\u001b[39m \u001b[43mgensim\u001b[49m\u001b[38;5;241;43m.\u001b[39;49m\u001b[43mmodels\u001b[49m\u001b[38;5;241;43m.\u001b[39;49m\u001b[43mLdaMulticore\u001b[49m\u001b[43m(\u001b[49m\n\u001b[1;32m      5\u001b[0m \u001b[43m    \u001b[49m\u001b[43mcorpus\u001b[49m\u001b[38;5;241;43m=\u001b[39;49m\u001b[43m \u001b[49m\u001b[43mcorpus_tfidf\u001b[49m\u001b[43m,\u001b[49m\n\u001b[1;32m      6\u001b[0m \u001b[43m    \u001b[49m\u001b[43mid2word\u001b[49m\u001b[38;5;241;43m=\u001b[39;49m\u001b[43m \u001b[49m\u001b[43mdictionary\u001b[49m\u001b[43m,\u001b[49m\n\u001b[1;32m      7\u001b[0m \u001b[43m    \u001b[49m\u001b[43mnum_topics\u001b[49m\u001b[38;5;241;43m=\u001b[39;49m\u001b[38;5;241;43m5\u001b[39;49m\u001b[43m,\u001b[49m\u001b[43m \u001b[49m\n\u001b[1;32m      8\u001b[0m \u001b[43m    \u001b[49m\u001b[43mpasses\u001b[49m\u001b[38;5;241;43m=\u001b[39;49m\u001b[43m \u001b[49m\u001b[38;5;241;43m2\u001b[39;49m\u001b[43m,\u001b[49m\u001b[43m \u001b[49m\n\u001b[1;32m      9\u001b[0m \u001b[43m    \u001b[49m\u001b[43mworkers\u001b[49m\u001b[38;5;241;43m=\u001b[39;49m\u001b[43m \u001b[49m\u001b[38;5;241;43m4\u001b[39;49m\n\u001b[1;32m     10\u001b[0m \u001b[43m)\u001b[49m\n\u001b[1;32m     11\u001b[0m \u001b[43m    \u001b[49m\u001b[43m(\u001b[49m\u001b[43m \u001b[49m\u001b[43mnums\u001b[49m\u001b[43m,\u001b[49m\n\u001b[1;32m     12\u001b[0m \u001b[43m   \u001b[49m\u001b[43mCoherenceModel\u001b[49m\u001b[43m(\u001b[49m\n\u001b[1;32m     13\u001b[0m \u001b[43m   \u001b[49m\u001b[43mmodel\u001b[49m\u001b[38;5;241;43m=\u001b[39;49m\u001b[43m \u001b[49m\u001b[43mlda_model_tfidf\u001b[49m\u001b[43m,\u001b[49m\n\u001b[1;32m     14\u001b[0m \u001b[43m    \u001b[49m\u001b[43mtexts\u001b[49m\u001b[38;5;241;43m=\u001b[39;49m\u001b[43m \u001b[49m\u001b[43m[\u001b[49m\u001b[43m \u001b[49m\u001b[43mtext\u001b[49m\u001b[38;5;241;43m.\u001b[39;49m\u001b[43msplit\u001b[49m\u001b[43m(\u001b[49m\u001b[43m)\u001b[49m\u001b[43m \u001b[49m\u001b[38;5;28;43;01mfor\u001b[39;49;00m\u001b[43m \u001b[49m\u001b[43mtext\u001b[49m\u001b[43m \u001b[49m\u001b[38;5;129;43;01min\u001b[39;49;00m\u001b[43m \u001b[49m\u001b[43mdf_array\u001b[49m\u001b[43m]\u001b[49m\u001b[43m,\u001b[49m\n\u001b[1;32m     15\u001b[0m \u001b[43m    \u001b[49m\u001b[43mdictionary\u001b[49m\u001b[38;5;241;43m=\u001b[39;49m\u001b[43m \u001b[49m\u001b[43mdictionary\u001b[49m\u001b[43m,\u001b[49m\n\u001b[1;32m     16\u001b[0m \u001b[43m    \u001b[49m\u001b[43mcoherence\u001b[49m\u001b[38;5;241;43m=\u001b[39;49m\u001b[43m \u001b[49m\u001b[38;5;124;43m\"\u001b[39;49m\u001b[38;5;124;43mc_v\u001b[39;49m\u001b[38;5;124;43m\"\u001b[39;49m\n\u001b[1;32m     17\u001b[0m \u001b[43m)\u001b[49m\u001b[38;5;241;43m.\u001b[39;49m\u001b[43mget_coherence\u001b[49m\u001b[43m(\u001b[49m\u001b[43m)\u001b[49m\u001b[43m)\u001b[49m\n\u001b[1;32m     18\u001b[0m \n\u001b[1;32m     19\u001b[0m      \u001b[38;5;28;01mfor\u001b[39;00m nums \u001b[38;5;129;01min\u001b[39;00m topic_range \n\u001b[1;32m     20\u001b[0m     ])\n",
      "\u001b[0;31mTypeError\u001b[0m: 'LdaMulticore' object is not callable"
     ]
    }
   ],
   "source": [
    "topic_range = range(2,40,1)\n",
    "\n",
    "a,b = zip(*[ \n",
    "    lda_model_tfidf := gensim.models.LdaMulticore(\n",
    "    corpus= corpus_tfidf,\n",
    "    id2word= dictionary,\n",
    "    num_topics=5, \n",
    "    passes= 2, \n",
    "    workers= 4\n",
    ")\n",
    "    ( nums,\n",
    "   CoherenceModel(\n",
    "   model= lda_model_tfidf,\n",
    "    texts= [ text.split() for text in df_array],\n",
    "    dictionary= dictionary,\n",
    "    coherence= \"c_v\"\n",
    ").get_coherence())\n",
    "\n",
    "     for nums in topic_range \n",
    "    ])"
   ]
  },
  {
   "cell_type": "code",
   "execution_count": 85,
   "id": "43ede588-5e0b-4163-bf1b-e68045acdd40",
   "metadata": {},
   "outputs": [
    {
     "data": {
      "text/plain": [
       "(0.5098675412438773,\n",
       " 0.5147960597693979,\n",
       " 0.4917606094779393,\n",
       " 0.5283661947023252,\n",
       " 0.49998063695372164,\n",
       " 0.5180563073801818,\n",
       " 0.4937063215018445,\n",
       " 0.517010156418535,\n",
       " 0.47755276173492084,\n",
       " 0.5284743653781164,\n",
       " 0.5022265926637927,\n",
       " 0.529048394480802,\n",
       " 0.45926797997418367,\n",
       " 0.5336407753127427,\n",
       " 0.4742625261924166,\n",
       " 0.48887596352754115,\n",
       " 0.5010954790120293,\n",
       " 0.5286785462924259,\n",
       " 0.5039262459279348,\n",
       " 0.5084153068243069,\n",
       " 0.5085716665828893,\n",
       " 0.48619399343830577,\n",
       " 0.515141953754884,\n",
       " 0.5010196260058044,\n",
       " 0.5108412783920203,\n",
       " 0.4867962357103818,\n",
       " 0.5066270467914676,\n",
       " 0.497498664121489,\n",
       " 0.5278464510256891,\n",
       " 0.49939194347893945,\n",
       " 0.5021091699114717,\n",
       " 0.5062513924891487,\n",
       " 0.48118078587094126,\n",
       " 0.4820015839026234,\n",
       " 0.5207693057100844,\n",
       " 0.4882728018699651,\n",
       " 0.5079792108251406,\n",
       " 0.5128935893168576)"
      ]
     },
     "execution_count": 85,
     "metadata": {},
     "output_type": "execute_result"
    }
   ],
   "source": [
    "b"
   ]
  },
  {
   "cell_type": "code",
   "execution_count": 84,
   "id": "3778bbf9-4281-4003-8c4e-4b714b091277",
   "metadata": {},
   "outputs": [
    {
     "data": {
      "text/plain": [
       "[<matplotlib.lines.Line2D at 0x7faedc97d540>]"
      ]
     },
     "execution_count": 84,
     "metadata": {},
     "output_type": "execute_result"
    },
    {
     "data": {
      "image/png": "[encoded data removed]",
      "text/plain": [
       "<Figure size 640x480 with 1 Axes>"
      ]
     },
     "metadata": {},
     "output_type": "display_data"
    }
   ],
   "source": []
  }
 ],
 "metadata": {
  "kernelspec": {
   "display_name": "Python 3 (ipykernel)",
   "language": "python",
   "name": "python3"
  },
  "language_info": {
   "codemirror_mode": {
    "name": "ipython",
    "version": 3
   },
   "file_extension": ".py",
   "mimetype": "text/x-python",
   "name": "python",
   "nbconvert_exporter": "python",
   "pygments_lexer": "ipython3",
   "version": "3.10.13"
  }
 },
 "nbformat": 4,
 "nbformat_minor": 5
}
