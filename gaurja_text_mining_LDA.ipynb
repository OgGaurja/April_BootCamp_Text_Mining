{
 "cells": [
  {
   "cell_type": "code",
   "execution_count": 1,
   "id": "2862365d-9a40-4b8f-a04a-50dc49f403c4",
   "metadata": {},
   "outputs": [],
   "source": [
    "import pandas as pd \n",
    "import re\n",
    "import matplotlib.pyplot as plt\n",
    "import numpy as np\n",
    "from pathlib import Path\n",
    "import sklearn\n",
    "from sklearn.feature_extraction.text import CountVectorizer"
   ]
  },
  {
   "cell_type": "code",
   "execution_count": 2,
   "id": "61b88946-e060-4c9f-8796-9a4f12914211",
   "metadata": {},
   "outputs": [],
   "source": [
    "import nltk\n",
    "from nltk.corpus import stopwords\n",
    "from nltk.stem import PorterStemmer\n",
    "from nltk.tokenize import word_tokenize\n",
    "import gensim\n",
    "from gensim import models\n",
    "from gensim import corpora, models\n",
    "from gensim.models.coherencemodel import CoherenceModel"
   ]
  },
  {
   "cell_type": "code",
   "execution_count": 3,
   "id": "e85279c2-bf81-42ed-b57d-775679633d77",
   "metadata": {},
   "outputs": [],
   "source": [
    "####### Notebook 3 imports ###########################\n",
    "import pyLDAvis\n",
    "import pyLDAvis.gensim"
   ]
  },
  {
   "cell_type": "code",
   "execution_count": 4,
   "id": "4a1d70f0-f0f6-49f4-8622-9d90f90f9ebb",
   "metadata": {},
   "outputs": [
    {
     "name": "stderr",
     "output_type": "stream",
     "text": [
      "[nltk_data] Downloading package punkt to /home/codespace/nltk_data...\n",
      "[nltk_data]   Package punkt is already up-to-date!\n",
      "[nltk_data] Downloading package stopwords to\n",
      "[nltk_data]     /home/codespace/nltk_data...\n",
      "[nltk_data]   Package stopwords is already up-to-date!\n"
     ]
    },
    {
     "data": {
      "text/plain": [
       "True"
      ]
     },
     "execution_count": 4,
     "metadata": {},
     "output_type": "execute_result"
    }
   ],
   "source": [
    "nltk.download([\"punkt\", \"stopwords\"])"
   ]
  },
  {
   "cell_type": "markdown",
   "id": "a16c4f22-34af-46c3-b8ff-74b6c1ecc3b0",
   "metadata": {},
   "source": [
    "# Import Data"
   ]
  },
  {
   "cell_type": "code",
   "execution_count": 5,
   "id": "288adf9c-5bbb-42b8-8434-ea4932adc2ac",
   "metadata": {},
   "outputs": [],
   "source": [
    "data_dir = \"Text-Mining-main/data/NYT_article_data.csv\"\n",
    "df = pd.read_csv(data_dir)"
   ]
  },
  {
   "cell_type": "code",
   "execution_count": 6,
   "id": "49815589-c089-47f4-8b4a-3a4958c85630",
   "metadata": {},
   "outputs": [
    {
     "name": "stdout",
     "output_type": "stream",
     "text": [
      "Index(['web_url', 'headline', 'snippet', 'word_count', 'source',\n",
      "       'type_of_material', 'date', 'id'],\n",
      "      dtype='object')\n",
      "['Nick Kyrgios started his Brisbane Open title defense with a battling 7-6(5) 5-7 7-6(5) victory over American Ryan Harrison in the opening round on Tuesday.', \"British police confirmed on Tuesday they were treating a stabbing attack which injured three people at Manchester's Victoria train station as a terrorist investigation, and were searching an address in the Cheetham Hill area of the city.\", 'Marcellus Wiley is still on the fence about letting his young son play football. But the former NFL defensive end and Fox Sports personality tells PodcastOne Sports Now that he likes what the NFL is doing to try and make football a safer game, des...']\n"
     ]
    }
   ],
   "source": [
    "print(df.columns)\n",
    "reviews = list(df[\"snippet\"])\n",
    "print(reviews[:3])"
   ]
  },
  {
   "cell_type": "code",
   "execution_count": 7,
   "id": "c811b58f-c841-4446-bba9-00506d52663b",
   "metadata": {},
   "outputs": [
    {
     "name": "stdout",
     "output_type": "stream",
     "text": [
      "['i', 'me', 'my', 'myself', 'we']\n"
     ]
    },
    {
     "name": "stderr",
     "output_type": "stream",
     "text": [
      "[nltk_data] Downloading package stopwords to\n",
      "[nltk_data]     /home/codespace/nltk_data...\n",
      "[nltk_data]   Package stopwords is already up-to-date!\n",
      "[nltk_data] Downloading package punkt to /home/codespace/nltk_data...\n",
      "[nltk_data]   Package punkt is already up-to-date!\n"
     ]
    }
   ],
   "source": [
    "nltk.download([\"stopwords\", \"punkt\"])\n",
    "stopwords_list = stopwords.words(\"english\")\n",
    "print(stopwords_list[:5])"
   ]
  },
  {
   "cell_type": "code",
   "execution_count": 8,
   "id": "1528863a-01de-45b0-b431-d4c611fda2a4",
   "metadata": {},
   "outputs": [
    {
     "name": "stdout",
     "output_type": "stream",
     "text": [
      "[['nick', 'kyrgio', 'start', 'brisban', 'open', 'titl', 'defens', 'battl', 'victori', 'american', 'ryan', 'harrison', 'open', 'round', 'tuesday'], ['british', 'polic', 'confirm', 'tuesday', 'treat', 'stab', 'attack', 'injur', 'three', 'peopl', 'manchest', 'victoria', 'train', 'station', 'terrorist', 'investig', 'search', 'address', 'cheetham', 'hill', 'area', 'citi'], ['marcellu', 'wiley', 'still', 'fenc', 'let', 'young', 'son', 'play', 'footbal', 'former', 'nfl', 'defens', 'end', 'fox', 'sport', 'person', 'tell', 'podcaston', 'sport', 'like', 'nfl', 'tri', 'make', 'footbal', 'safer', 'game', 'de'], ['still', 'reckon', 'fallout', 'emmett', 'till', 'paint', 'chasten', 'artist', 'reveal', 'controversi', 'chang', 'even', 'move', 'forward', 'new', 'galleri', 'show'], ['far', 'arik', 'ogunbowal', 'coach', 'muffet', 'mcgraw', 'concern', 'notr', 'dame', 'victori', 'louisvil', 'thursday', 'night', 'anoth', 'atlant', 'coast', 'confer', 'game', 'januari']]\n"
     ]
    }
   ],
   "source": [
    "processed_text = [\n",
    "    [\n",
    "        PorterStemmer().stem(word.lower())\n",
    "        for word in word_tokenize(text)\n",
    "        if not word.lower() in stopwords_list\n",
    "        if word.isalpha()\n",
    "    ]\n",
    "    for text in reviews\n",
    "]\n",
    "\n",
    "print(processed_text[:5])"
   ]
  },
  {
   "cell_type": "code",
   "execution_count": 9,
   "id": "54b436db-9d0f-47e9-b03f-95e5c6d05f07",
   "metadata": {},
   "outputs": [
    {
     "name": "stdout",
     "output_type": "stream",
     "text": [
      "['nick kyrgio start brisban open titl defens battl victori american ryan harrison open round tuesday', 'british polic confirm tuesday treat stab attack injur three peopl manchest victoria train station terrorist investig search address cheetham hill area citi', 'marcellu wiley still fenc let young son play footbal former nfl defens end fox sport person tell podcaston sport like nfl tri make footbal safer game de', 'still reckon fallout emmett till paint chasten artist reveal controversi chang even move forward new galleri show', 'far arik ogunbowal coach muffet mcgraw concern notr dame victori louisvil thursday night anoth atlant coast confer game januari']\n"
     ]
    }
   ],
   "source": [
    "clean_data = [' '.join(text) for text in processed_text]\n",
    "print(clean_data[:5])"
   ]
  },
  {
   "cell_type": "code",
   "execution_count": 10,
   "id": "c0803802-74fd-483c-9a20-cc95a087192a",
   "metadata": {},
   "outputs": [],
   "source": [
    "word_count = [len(text.split()) for text in clean_data]\n",
    "# print(len(word_count))\n",
    "# print(len(set(word_count)))"
   ]
  },
  {
   "cell_type": "code",
   "execution_count": 11,
   "id": "e5dd37a5-cc9b-44d8-97de-968836c28144",
   "metadata": {},
   "outputs": [
    {
     "name": "stdout",
     "output_type": "stream",
     "text": [
      "[15, 22, 27, 17, 19, 12, 5, 11, 23, 13, 15, 12, 13, 21, 19, 10, 14, 15, 12, 12, 21, 8, 18, 14, 8, 24, 11, 21, 15, 12, 15, 26, 17, 25, 17, 19, 11, 16, 16, 8, 22, 18, 19, 10, 15, 6, 20, 18, 11, 9, 24, 7, 12, 16, 24, 23, 22, 19, 13, 14, 13, 19, 22, 23, 23, 13, 7, 21, 21, 23, 6, 19, 23, 23, 12, 21, 26, 6, 7, 22, 19, 14, 25, 10, 19, 13, 22, 13, 19, 14, 25, 14, 11, 17, 20, 9, 24, 24, 16, 7, 8, 11, 26, 22, 20, 14, 15, 23, 8, 23, 23, 7, 12, 24, 15, 3, 9, 19, 14, 28, 19, 11, 21, 18, 24, 22, 4, 22, 19, 9, 10, 17, 17, 8, 24, 12, 20, 19, 15, 26, 15, 19, 23, 10, 22, 21, 22, 16, 16, 18, 22, 24, 16, 18, 22, 22, 6, 17, 7, 20, 28, 14, 24, 15, 23, 22, 17, 25, 11, 24, 21, 14, 20, 23, 20, 14, 16, 15, 8, 10, 15, 19, 14, 16, 5, 8, 9, 12, 23, 25, 20, 19, 9, 15, 20, 25, 23, 18, 22, 30, 22, 15, 14, 24, 21, 10, 7, 11, 13, 19, 19, 14, 13, 15, 20, 12, 16, 13, 12, 5, 24, 27, 10, 11, 10, 13, 22, 11, 19, 6, 21, 16, 13]\n"
     ]
    }
   ],
   "source": [
    "print(word_count)"
   ]
  },
  {
   "cell_type": "code",
   "execution_count": 12,
   "id": "67d1ad02-a5dd-4c2e-8928-19fc7e5120a3",
   "metadata": {},
   "outputs": [
    {
     "data": {
      "text/plain": [
       "<Axes: xlabel='Number of words per document', ylabel='Frequency'>"
      ]
     },
     "execution_count": 12,
     "metadata": {},
     "output_type": "execute_result"
    },
    {
     "data": {
      "image/png": "[encoded data removed]",
      "text/plain": [
       "<Figure size 640x480 with 1 Axes>"
      ]
     },
     "metadata": {},
     "output_type": "display_data"
    }
   ],
   "source": [
    "pd.Series(data=word_count).plot.hist(bins=len(set(word_count)),xlabel=\"Number of words per document\", \n",
    "    ylabel=\"Frequency\",)\n"
   ]
  },
  {
   "cell_type": "code",
   "execution_count": 13,
   "id": "20b7c568-8655-4415-9923-54b7253f7106",
   "metadata": {},
   "outputs": [],
   "source": [
    "\n",
    "# %pip install jupyterlab_vim"
   ]
  },
  {
   "cell_type": "code",
   "execution_count": 14,
   "id": "f2b4afe3-b4d2-4026-8276-ac8fce2eae26",
   "metadata": {},
   "outputs": [],
   "source": [
    "# %pip install nltk wordcloud \"black[jupyter]\""
   ]
  },
  {
   "cell_type": "code",
   "execution_count": 15,
   "id": "3e636d36-247e-4abc-b184-13f79f23e47f",
   "metadata": {},
   "outputs": [],
   "source": [
    "a = pd.DataFrame(clean_data)\n",
    "# print(a.isnull().sum())\n",
    "\n",
    "a = \"I love this movie\"\n",
    "a = word_tokenize(a)"
   ]
  },
  {
   "cell_type": "code",
   "execution_count": 16,
   "id": "ff342d4d-a433-4a01-adeb-ad8d141d5d21",
   "metadata": {},
   "outputs": [],
   "source": [
    "# print(a)\n",
    "# print(list(df[\"snippet\"]))"
   ]
  },
  {
   "cell_type": "code",
   "execution_count": 17,
   "id": "29ac90aa-16e1-43c3-9da1-81854c0df747",
   "metadata": {},
   "outputs": [
    {
     "name": "stdout",
     "output_type": "stream",
     "text": [
      "[15 22 27 17 19 12  5 11 23 13 15 12 13 21 19 10 14 15 12 12 21  8 18 14\n",
      "  8 24 11 21 15 12 15 26 17 25 17 19 11 16 16  8 22 18 19 10 15  6 20 18\n",
      " 11  9 24  7 12 16 24 23 22 19 13 14 13 19 22 23 23 13  7 21 21 23  6 19\n",
      " 23 23 12 21 26  6  7 22 19 14 25 10 19 13 22 13 19 14 25 14 11 17 20  9\n",
      " 24 24 16  7  8 11 26 22 20 14 15 23  8 23 23  7 12 24 15  3  9 19 14 28\n",
      " 19 11 21 18 24 22  4 22 19  9 10 17 17  8 24 12 20 19 15 26 15 19 23 10\n",
      " 22 21 22 16 16 18 22 24 16 18 22 22  6 17  7 20 28 14 24 15 23 22 17 25\n",
      " 11 24 21 14 20 23 20 14 16 15  8 10 15 19 14 16  5  8  9 12 23 25 20 19\n",
      "  9 15 20 25 23 18 22 30 22 15 14 24 21 10  7 11 13 19 19 14 13 15 20 12\n",
      " 16 13 12  5 24 27 10 11 10 13 22 11 19  6 21 16 13]\n"
     ]
    }
   ],
   "source": [
    "word_count_array = np.array(word_count)\n",
    "print(word_count_array)"
   ]
  },
  {
   "cell_type": "code",
   "execution_count": 18,
   "id": "8cc24dca-25f9-4dfe-9a3f-f35482eff7a1",
   "metadata": {},
   "outputs": [
    {
     "name": "stdout",
     "output_type": "stream",
     "text": [
      "233\n"
     ]
    }
   ],
   "source": [
    "df_array = np.array(clean_data)\n",
    "# print(df_array[:6])\n",
    "print(len(df_array))"
   ]
  },
  {
   "cell_type": "markdown",
   "id": "707791d3-6e23-45d3-8499-e4913a9d25bf",
   "metadata": {},
   "source": [
    "### Removing entries having smaller number of words in them"
   ]
  },
  {
   "cell_type": "code",
   "execution_count": 19,
   "id": "ec118247-8da5-4b1c-a02f-36a9bf1cd81e",
   "metadata": {},
   "outputs": [
    {
     "name": "stdout",
     "output_type": "stream",
     "text": [
      "233\n"
     ]
    }
   ],
   "source": [
    "mask = np.where(word_count_array >= 5,True, False)\n",
    "print(len(mask))\n",
    "# print(mask)\n",
    "## Now we got indices which we need\n",
    "## make that df array now\n",
    "\n"
   ]
  },
  {
   "cell_type": "code",
   "execution_count": 20,
   "id": "0466f639-f1d0-4d35-8185-f49224871c2d",
   "metadata": {},
   "outputs": [],
   "source": [
    "## contains strings with more than 5 words\n",
    "df_array = df_array[mask]"
   ]
  },
  {
   "cell_type": "code",
   "execution_count": 21,
   "id": "06088f8a-cedf-4eb9-b255-45052c9e6c6e",
   "metadata": {},
   "outputs": [],
   "source": [
    "# print(df_array)"
   ]
  },
  {
   "cell_type": "markdown",
   "id": "3950a445-6e64-41a4-9d64-c6c038ab8427",
   "metadata": {},
   "source": [
    "### Saving processed text"
   ]
  },
  {
   "cell_type": "code",
   "execution_count": 22,
   "id": "c037655b-9a52-4a59-9d2f-917c3683bc57",
   "metadata": {},
   "outputs": [
    {
     "data": {
      "text/plain": [
       "25007"
      ]
     },
     "execution_count": 22,
     "metadata": {},
     "output_type": "execute_result"
    }
   ],
   "source": [
    "## Using pathlib\n",
    "Path('clean_df.txt').write_text(\"\\n\".join(df_array))  "
   ]
  },
  {
   "cell_type": "markdown",
   "id": "52c9c170-e784-42b2-8655-ca4d57c56e0b",
   "metadata": {},
   "source": [
    "## CountVectorizer"
   ]
  },
  {
   "cell_type": "code",
   "execution_count": 23,
   "id": "65529a30-b925-46ac-a955-cc72ad8e8ebb",
   "metadata": {},
   "outputs": [
    {
     "name": "stdout",
     "output_type": "stream",
     "text": [
      "8689\n",
      "231\n"
     ]
    }
   ],
   "source": [
    "cv = CountVectorizer(ngram_range= (1,3))\n",
    "X = cv.fit_transform(df_array).toarray()\n",
    "y = cv.get_feature_names_out()\n",
    "print(len(y))\n",
    "\n",
    "## Number of words ==> 1921\n",
    "## In number of sentences ==> 231\n",
    "print(len(X))"
   ]
  },
  {
   "cell_type": "code",
   "execution_count": 24,
   "id": "e87eec02-4813-448f-9348-c1d050da72c1",
   "metadata": {},
   "outputs": [],
   "source": [
    "DTM = pd.DataFrame(X, columns= y)\n",
    "# DTM.head()"
   ]
  },
  {
   "cell_type": "markdown",
   "id": "8aed6412-6a3f-4795-92e0-ec4c2e9ab5e6",
   "metadata": {
    "jp-MarkdownHeadingCollapsed": true
   },
   "source": [
    "### Understand this ??"
   ]
  },
  {
   "cell_type": "code",
   "execution_count": 25,
   "id": "c481602e-83de-463a-9662-c0e1a6b56dcc",
   "metadata": {},
   "outputs": [
    {
     "data": {
      "text/plain": [
       "[('said', 38),\n",
       " ('new', 36),\n",
       " ('presid', 28),\n",
       " ('year', 27),\n",
       " ('friday', 22),\n",
       " ('govern', 22),\n",
       " ('time', 18),\n",
       " ('tuesday', 17),\n",
       " ('like', 15),\n",
       " ('monday', 15)]"
      ]
     },
     "execution_count": 25,
     "metadata": {},
     "output_type": "execute_result"
    }
   ],
   "source": [
    "sorted(DTM.sum().to_dict().items() , reverse=True , key = lambda kv: kv[1] )[:10]"
   ]
  },
  {
   "cell_type": "markdown",
   "id": "b9e8ac2f-9a73-4a9c-a9bc-155df70675f1",
   "metadata": {
    "jp-MarkdownHeadingCollapsed": true
   },
   "source": [
    "### Freq Dist Probability"
   ]
  },
  {
   "cell_type": "code",
   "execution_count": 26,
   "id": "7cf3c159-317e-4eb9-848a-9e6cc0023eea",
   "metadata": {},
   "outputs": [],
   "source": [
    "from nltk.probability import FreqDist"
   ]
  },
  {
   "cell_type": "code",
   "execution_count": 27,
   "id": "48905063-6092-4a11-acd1-063c460403fe",
   "metadata": {},
   "outputs": [],
   "source": [
    "corpus_freq_dist=nltk.FreqDist(\n",
    "    dict(sorted(DTM.sum().to_dict().items() , \n",
    "    reverse=True ,\n",
    "    key = lambda kv: kv[1])\n",
    ")\n",
    ")\n"
   ]
  },
  {
   "cell_type": "code",
   "execution_count": 28,
   "id": "07f79a2a-cf87-486e-952d-794490787ea9",
   "metadata": {},
   "outputs": [],
   "source": [
    "# print(corpus_freq_dist.items())"
   ]
  },
  {
   "cell_type": "code",
   "execution_count": 29,
   "id": "ea8478f3-758e-4ef8-b78f-00567ced54ed",
   "metadata": {},
   "outputs": [],
   "source": [
    "# plt.figure(figsize=(50,10))\n",
    "# corpus_freq_dist.plot()"
   ]
  },
  {
   "cell_type": "markdown",
   "id": "37d8e875-8378-4416-ba05-c1427c295399",
   "metadata": {},
   "source": [
    "## Making histogram"
   ]
  },
  {
   "cell_type": "code",
   "execution_count": 30,
   "id": "4492784b-6a68-4320-8e58-345d15446d1e",
   "metadata": {},
   "outputs": [],
   "source": [
    "word_freq = pd.Series(   \n",
    "    dict(\n",
    "        sorted(DTM.sum().to_dict().items() , \n",
    "        reverse=True ,\n",
    "        key = lambda kv: kv[1])\n",
    "        )\n",
    "    )\n"
   ]
  },
  {
   "cell_type": "code",
   "execution_count": 31,
   "id": "47a17965-702b-4a1c-8d40-dfa62f797b44",
   "metadata": {},
   "outputs": [
    {
     "data": {
      "text/plain": [
       "said                    38\n",
       "new                     36\n",
       "presid                  28\n",
       "year                    27\n",
       "friday                  22\n",
       "                        ..\n",
       "zimbabw presid           1\n",
       "zimbabw presid doubl     1\n",
       "zykera                   1\n",
       "zykera rice              1\n",
       "zykera rice ad           1\n",
       "Length: 8689, dtype: int64"
      ]
     },
     "execution_count": 31,
     "metadata": {},
     "output_type": "execute_result"
    }
   ],
   "source": [
    "word_freq"
   ]
  },
  {
   "cell_type": "code",
   "execution_count": 32,
   "id": "e6713355-4ed9-40be-af7d-c5a506c1f6fa",
   "metadata": {},
   "outputs": [
    {
     "data": {
      "image/png": "[encoded data removed]",
      "text/plain": [
       "<Figure size 640x480 with 1 Axes>"
      ]
     },
     "metadata": {},
     "output_type": "display_data"
    }
   ],
   "source": [
    "ax = word_freq[:15].sort_values(ascending=True).plot.barh()\n",
    "for i in ax.containers:\n",
    "    ax.bar_label(i, fmt=\" %.0f\")"
   ]
  },
  {
   "cell_type": "markdown",
   "id": "7d7a9cb4-d4ac-4eb4-9d03-241392e0e847",
   "metadata": {},
   "source": [
    "## Ngram ????\n",
    "## how many words makes one token\n",
    "## Unigram, BiGrams"
   ]
  },
  {
   "cell_type": "code",
   "execution_count": 33,
   "id": "bda36063-1817-452c-9241-cfa3d67bdcb1",
   "metadata": {},
   "outputs": [
    {
     "name": "stdout",
     "output_type": "stream",
     "text": [
      "['nick kyrgio start brisban open titl defens battl victori american ryan harrison open round tuesday'\n",
      " 'british polic confirm tuesday treat stab attack injur three peopl manchest victoria train station terrorist investig search address cheetham hill area citi'\n",
      " 'marcellu wiley still fenc let young son play footbal former nfl defens end fox sport person tell podcaston sport like nfl tri make footbal safer game de'\n",
      " 'still reckon fallout emmett till paint chasten artist reveal controversi chang even move forward new galleri show'\n",
      " 'far arik ogunbowal coach muffet mcgraw concern notr dame victori louisvil thursday night anoth atlant coast confer game januari']\n"
     ]
    }
   ],
   "source": [
    "print(df_array[:5])"
   ]
  },
  {
   "cell_type": "code",
   "execution_count": 34,
   "id": "a879374b-e01c-43b5-a6c3-f140fa38a933",
   "metadata": {},
   "outputs": [],
   "source": [
    "from wordcloud import WordCloud"
   ]
  },
  {
   "cell_type": "code",
   "execution_count": 35,
   "id": "a6efe80e-b1cc-4e5c-a6c6-d4a2eb98717d",
   "metadata": {},
   "outputs": [],
   "source": [
    "# wordcloud = WordCloud(background_color=\"white\")\n",
    "# wordcloud = wordcloud.generate(\" \".join(df_array))\n",
    "# plt.figure(figsize= (27,20)) # Plot the cloud using matplotlib\n",
    "# plt.imshow(wordcloud, interpolation=\"bilinear\")\n",
    "# plt.axis(\"off\")"
   ]
  },
  {
   "cell_type": "markdown",
   "id": "a036aaaf-7f46-4d16-9726-9cbf02172433",
   "metadata": {},
   "source": [
    "## TfIDf Notebook"
   ]
  },
  {
   "cell_type": "code",
   "execution_count": 36,
   "id": "9f4acab3-7963-4490-a5c0-4066c076bac3",
   "metadata": {},
   "outputs": [
    {
     "name": "stdout",
     "output_type": "stream",
     "text": [
      "['nick kyrgio start brisban open titl defens battl victori american ryan harrison open round tuesday'\n",
      " 'british polic confirm tuesday treat stab attack injur three peopl manchest victoria train station terrorist investig search address cheetham hill area citi'\n",
      " 'marcellu wiley still fenc let young son play footbal former nfl defens end fox sport person tell podcaston sport like nfl tri make footbal safer game de'\n",
      " 'still reckon fallout emmett till paint chasten artist reveal controversi chang even move forward new galleri show'\n",
      " 'far arik ogunbowal coach muffet mcgraw concern notr dame victori louisvil thursday night anoth atlant coast confer game januari']\n"
     ]
    }
   ],
   "source": [
    "print(df_array[:5])\n"
   ]
  },
  {
   "cell_type": "markdown",
   "id": "925a4972-f060-4df2-b952-e58e75551157",
   "metadata": {},
   "source": [
    "## Gensim"
   ]
  },
  {
   "cell_type": "code",
   "execution_count": 37,
   "id": "1d320b0e-0c44-4a43-914f-7d49459b92b9",
   "metadata": {},
   "outputs": [],
   "source": [
    "texts = [['human', 'interface', 'computer']]\n",
    "dct = gensim.corpora.Dictionary(texts)  # initialize a Dictionary\n",
    "\n",
    "\n",
    "\n",
    "# dct.add_documents([[\"cat\", \"say\", \"meow\"], [\"dog\"]])  # add more document (extend the vocabulary)\n",
    "# dct.doc2bow([\"dog\", \"computer\", \"non_existent_word\"])\n",
    "# [(0, 1), (6, 1)]"
   ]
  },
  {
   "cell_type": "code",
   "execution_count": 38,
   "id": "178635b2-e078-406a-a34c-628b2e531e90",
   "metadata": {},
   "outputs": [
    {
     "data": {
      "text/plain": [
       "[(0, 'computer'), (1, 'human'), (2, 'interface')]"
      ]
     },
     "execution_count": 38,
     "metadata": {},
     "output_type": "execute_result"
    }
   ],
   "source": [
    "list(dct.items())"
   ]
  },
  {
   "cell_type": "code",
   "execution_count": 39,
   "id": "55f5f00e-6d44-4bc3-8c02-f3a0eed3e907",
   "metadata": {},
   "outputs": [],
   "source": [
    "dictionary = gensim.corpora.Dictionary([sentence.split() for sentence in df_array])"
   ]
  },
  {
   "cell_type": "code",
   "execution_count": 40,
   "id": "9e20deeb-7869-44dc-8901-e3a6509d9cba",
   "metadata": {},
   "outputs": [
    {
     "data": {
      "text/plain": [
       "[(0, 'american'), (1, 'battl'), (2, 'brisban'), (3, 'defens'), (4, 'harrison')]"
      ]
     },
     "execution_count": 40,
     "metadata": {},
     "output_type": "execute_result"
    }
   ],
   "source": [
    "list(dictionary.items())[:5]"
   ]
  },
  {
   "cell_type": "markdown",
   "id": "1c369f88-01f3-4186-95df-1b163688d8db",
   "metadata": {},
   "source": [
    "## islice() Method ??"
   ]
  },
  {
   "cell_type": "code",
   "execution_count": 41,
   "id": "55a449f5-a44c-4c38-8260-eb99340003c4",
   "metadata": {},
   "outputs": [
    {
     "data": {
      "text/plain": [
       "200"
      ]
     },
     "execution_count": 41,
     "metadata": {},
     "output_type": "execute_result"
    }
   ],
   "source": [
    "## 1925 to 200 \n",
    "dictionary.filter_extremes(no_below= 4, no_above= 0.5, keep_n = 200)\n",
    "len(list(dictionary.items()))"
   ]
  },
  {
   "cell_type": "code",
   "execution_count": 42,
   "id": "c69436e9-b74f-4361-a801-0f9834a698cd",
   "metadata": {},
   "outputs": [
    {
     "data": {
      "text/plain": [
       "200"
      ]
     },
     "execution_count": 42,
     "metadata": {},
     "output_type": "execute_result"
    }
   ],
   "source": [
    "len(dictionary.items())\n",
    "#### Dictionary contains important words now "
   ]
  },
  {
   "cell_type": "markdown",
   "id": "a46ee299-d553-44c6-92bc-0c69dddfb04c",
   "metadata": {},
   "source": [
    "## Converting to Bag of Words "
   ]
  },
  {
   "cell_type": "code",
   "execution_count": 43,
   "id": "f4cafa8c-6a85-40bf-9fc8-2aa01a19a39b",
   "metadata": {},
   "outputs": [],
   "source": [
    "# df_clean = [ text.split() for text in df_array]"
   ]
  },
  {
   "cell_type": "code",
   "execution_count": 44,
   "id": "fa603e01-3b35-42d6-bc22-f48e360ad83b",
   "metadata": {},
   "outputs": [],
   "source": [
    "bow_corpus = [ dictionary.doc2bow(doc.split()) for doc in df_array]\n"
   ]
  },
  {
   "cell_type": "code",
   "execution_count": 45,
   "id": "a9bbb959-6376-4208-a22b-069d91c5572a",
   "metadata": {},
   "outputs": [
    {
     "data": {
      "text/plain": [
       "'british polic confirm tuesday treat stab attack injur three peopl manchest victoria train station terrorist investig search address cheetham hill area citi'"
      ]
     },
     "execution_count": 45,
     "metadata": {},
     "output_type": "execute_result"
    }
   ],
   "source": [
    "df_array[1]"
   ]
  },
  {
   "cell_type": "code",
   "execution_count": 46,
   "id": "3bd28ee9-7eb8-48c7-b2c1-feaded0dd200",
   "metadata": {},
   "outputs": [],
   "source": [
    "firstList = bow_corpus[1]\n",
    "firstList = [(dictionary[tup[0]], tup[1]) for tup in firstList]\n"
   ]
  },
  {
   "cell_type": "code",
   "execution_count": 47,
   "id": "e4040bf8-752c-40d1-9e30-c9fcc7a46046",
   "metadata": {},
   "outputs": [
    {
     "data": {
      "text/plain": [
       "[('tuesday', 1),\n",
       " ('attack', 1),\n",
       " ('citi', 1),\n",
       " ('investig', 1),\n",
       " ('peopl', 1),\n",
       " ('polic', 1),\n",
       " ('search', 1),\n",
       " ('three', 1)]"
      ]
     },
     "execution_count": 47,
     "metadata": {},
     "output_type": "execute_result"
    }
   ],
   "source": [
    "firstList"
   ]
  },
  {
   "cell_type": "code",
   "execution_count": 48,
   "id": "b4d164ff-f024-41d4-b1ee-bf7ba06e4eeb",
   "metadata": {},
   "outputs": [
    {
     "data": {
      "text/plain": [
       "[(0, 1), (1, 1), (2, 2), (3, 1), (4, 1), (5, 1), (6, 1)]"
      ]
     },
     "execution_count": 48,
     "metadata": {},
     "output_type": "execute_result"
    }
   ],
   "source": [
    "bow_corpus[0]"
   ]
  },
  {
   "cell_type": "markdown",
   "id": "153b409d-5cf7-4a98-93a0-42053d12c7ef",
   "metadata": {},
   "source": [
    "## Transform counts with TfidfModel"
   ]
  },
  {
   "cell_type": "code",
   "execution_count": 49,
   "id": "31813fa7-f2b8-457a-8ebf-725aebfa4b5e",
   "metadata": {},
   "outputs": [],
   "source": [
    "###### Giving bow_corpus to TfidfModel"
   ]
  },
  {
   "cell_type": "code",
   "execution_count": 50,
   "id": "079c0914-5883-4ae3-8e34-a6e103336e92",
   "metadata": {},
   "outputs": [],
   "source": [
    "tfidf = models.TfidfModel(bow_corpus)\n",
    "corpus_tfidf = tfidf[bow_corpus]"
   ]
  },
  {
   "cell_type": "code",
   "execution_count": 51,
   "id": "39659b3d-6ddb-4789-9e5b-d5acd220d274",
   "metadata": {},
   "outputs": [
    {
     "data": {
      "text/plain": [
       "[(0, 0.31942373876087665),\n",
       " (1, 0.3549009519669791),\n",
       " (2, 0.6118718565633235),\n",
       " (3, 0.3549009519669791),\n",
       " (4, 0.3059359282816618),\n",
       " (5, 0.22829905152454918),\n",
       " (6, 0.3549009519669791)]"
      ]
     },
     "execution_count": 51,
     "metadata": {},
     "output_type": "execute_result"
    }
   ],
   "source": [
    "next(iter(corpus_tfidf))"
   ]
  },
  {
   "cell_type": "markdown",
   "id": "3250f513-3175-4306-8c44-1ddce0fbb2b9",
   "metadata": {},
   "source": [
    "## Making Directory"
   ]
  },
  {
   "cell_type": "code",
   "execution_count": 52,
   "id": "2074d8af-5952-4dcf-bb80-56b00029fcb6",
   "metadata": {},
   "outputs": [],
   "source": [
    "# Path('data').mkdir()\n",
    "# Path('plot').mkdir()"
   ]
  },
  {
   "cell_type": "markdown",
   "id": "3dedc375-2004-4107-bb6b-0d1ed6445eb1",
   "metadata": {},
   "source": [
    "## Making Latent Dirichlet Allocation"
   ]
  },
  {
   "cell_type": "code",
   "execution_count": 53,
   "id": "37d954ea-2d9b-4119-8061-6e393a39006f",
   "metadata": {},
   "outputs": [],
   "source": [
    "lda_model_tfidf = gensim.models.LdaMulticore(corpus= corpus_tfidf, id2word= dictionary, num_topics=5, passes= 2, workers= 4 )"
   ]
  },
  {
   "cell_type": "code",
   "execution_count": 54,
   "id": "3601b5ef-6380-4348-b97a-72b09b718935",
   "metadata": {},
   "outputs": [
    {
     "data": {
      "text/plain": [
       "[(0,\n",
       "  '0.031*\"world\" + 0.017*\"state\" + 0.016*\"govern\" + 0.016*\"know\" + 0.013*\"one\" + 0.013*\"minist\" + 0.013*\"new\" + 0.012*\"america\" + 0.012*\"tuesday\" + 0.012*\"billion\"'),\n",
       " (1,\n",
       "  '0.018*\"help\" + 0.017*\"latest\" + 0.017*\"time\" + 0.015*\"leader\" + 0.014*\"move\" + 0.014*\"leagu\" + 0.014*\"expect\" + 0.014*\"head\" + 0.013*\"democrat\" + 0.013*\"local\"'),\n",
       " (2,\n",
       "  '0.019*\"like\" + 0.016*\"first\" + 0.016*\"peopl\" + 0.016*\"day\" + 0.015*\"say\" + 0.015*\"kill\" + 0.014*\"tuesday\" + 0.014*\"said\" + 0.014*\"made\" + 0.012*\"weekend\"'),\n",
       " (3,\n",
       "  '0.025*\"new\" + 0.020*\"said\" + 0.019*\"accus\" + 0.017*\"talk\" + 0.017*\"year\" + 0.016*\"friday\" + 0.016*\"set\" + 0.015*\"could\" + 0.013*\"appear\" + 0.012*\"american\"'),\n",
       " (4,\n",
       "  '0.025*\"offici\" + 0.018*\"former\" + 0.017*\"time\" + 0.016*\"local\" + 0.015*\"trump\" + 0.015*\"saturday\" + 0.014*\"latest\" + 0.014*\"investig\" + 0.014*\"victori\" + 0.014*\"shutdown\"')]"
      ]
     },
     "execution_count": 54,
     "metadata": {},
     "output_type": "execute_result"
    }
   ],
   "source": [
    "(lda_model_tfidf.print_topics())"
   ]
  },
  {
   "cell_type": "markdown",
   "id": "dbdf8881-4815-413c-95e3-20c8ac52a28b",
   "metadata": {},
   "source": [
    "# Classify our documents within topics"
   ]
  },
  {
   "cell_type": "code",
   "execution_count": 55,
   "id": "31202972-eb60-4b38-979a-3f579ed9864b",
   "metadata": {},
   "outputs": [
    {
     "data": {
      "text/plain": [
       "[(0, 0.31942373876087665),\n",
       " (1, 0.3549009519669791),\n",
       " (2, 0.6118718565633235),\n",
       " (3, 0.3549009519669791),\n",
       " (4, 0.3059359282816618),\n",
       " (5, 0.22829905152454918),\n",
       " (6, 0.3549009519669791)]"
      ]
     },
     "execution_count": 55,
     "metadata": {},
     "output_type": "execute_result"
    }
   ],
   "source": [
    "df_array[0]\n",
    "\n",
    "corpus_tfidf[0]"
   ]
  },
  {
   "cell_type": "markdown",
   "id": "6fdebe76-cbdb-4f2f-aca8-2e43a6326c6f",
   "metadata": {},
   "source": [
    "# Making Coherence Model"
   ]
  },
  {
   "cell_type": "code",
   "execution_count": 56,
   "id": "9c6b1e7f-c711-42e8-bb3d-90fd6e518a6e",
   "metadata": {},
   "outputs": [],
   "source": [
    "#### Calculate Topic Coherence\n",
    "coherence_model_lda = CoherenceModel(\n",
    "   model= lda_model_tfidf,\n",
    "    texts= [ text.split() for text in df_array],\n",
    "    dictionary= dictionary,\n",
    "    coherence= \"c_v\"\n",
    ")\n",
    "\n",
    "coherence_lda = coherence_model_lda.get_coherence()"
   ]
  },
  {
   "cell_type": "code",
   "execution_count": 57,
   "id": "c4c9116d-744d-432d-a29d-6c83a5124e12",
   "metadata": {},
   "outputs": [
    {
     "data": {
      "text/plain": [
       "0.5091366453440206"
      ]
     },
     "execution_count": 57,
     "metadata": {},
     "output_type": "execute_result"
    }
   ],
   "source": [
    "coherence_lda"
   ]
  },
  {
   "cell_type": "markdown",
   "id": "8adb1cbb-d3e5-41a8-94b2-1c15f8b91ae9",
   "metadata": {},
   "source": [
    "## How many Clusters (Number of topics) do we want ??"
   ]
  },
  {
   "cell_type": "code",
   "execution_count": 58,
   "id": "8d3f9a32-6fab-491f-abb2-9175373656a1",
   "metadata": {},
   "outputs": [],
   "source": [
    "######### Coherence value vs "
   ]
  },
  {
   "cell_type": "code",
   "execution_count": 80,
   "id": "d567a92a-d181-478a-a9a8-3eca7aa6c47c",
   "metadata": {},
   "outputs": [],
   "source": [
    "topic_range = range(1,40,1)\n",
    "\n",
    "model_list,cohere_list = zip(*[ \n",
    "    (\n",
    "    lda_model_tfidf := gensim.models.LdaMulticore(\n",
    "    corpus= corpus_tfidf,\n",
    "    num_topics= nums,\n",
    "    id2word= dictionary,\n",
    "),\n",
    "   CoherenceModel(\n",
    "   model= lda_model_tfidf,\n",
    "    texts= [ text.split() for text in df_array],\n",
    "    dictionary= dictionary,\n",
    "    coherence= \"c_v\"\n",
    ").get_coherence())\n",
    "\n",
    "     for nums in topic_range \n",
    "    ])"
   ]
  },
  {
   "cell_type": "code",
   "execution_count": 113,
   "id": "469cdba5-dbfc-403b-b8a6-eccbcebc8dfa",
   "metadata": {},
   "outputs": [
    {
     "data": {
      "text/plain": [
       "8"
      ]
     },
     "execution_count": 113,
     "metadata": {},
     "output_type": "execute_result"
    }
   ],
   "source": [
    "# model_list\n",
    "# numtop_cohere_list\n",
    "# num_top = [ model.num_topics for model in model_list]\n",
    "\n",
    "\n",
    "################ MARTIN ADVANCE CODE ###################\n",
    "pd.Series(cohere_list, index= topic_range).head(10).idxmax()"
   ]
  },
  {
   "cell_type": "code",
   "execution_count": 117,
   "id": "13f36391-40fd-40d0-9d97-4cad2d13bb79",
   "metadata": {},
   "outputs": [],
   "source": [
    "################ MARTIN ADVANCE CODE ###################\n",
    "# pd.Series(cohere_list, index= topic_range).head().idxmax)\n",
    "\n",
    "best_model= model_list[pd.Series(cohere_list, index= topic_range).head(10).idxmax() - 1]"
   ]
  },
  {
   "cell_type": "code",
   "execution_count": 88,
   "id": "43ede588-5e0b-4163-bf1b-e68045acdd40",
   "metadata": {},
   "outputs": [],
   "source": [
    "# sorted(b,reverse=True ,key =  lambda x : x[1])[:5]\n",
    "# model_list[4].num_topics\n",
    "# sorted(cohere_list, reverse= True)\n",
    "# max(cohere_list)"
   ]
  },
  {
   "cell_type": "markdown",
   "id": "07882d83-e7f9-428d-bc64-7a8183d75450",
   "metadata": {},
   "source": [
    "### Graph of Num topics vs Coherence Value"
   ]
  },
  {
   "cell_type": "code",
   "execution_count": 118,
   "id": "e0646219-afe0-4ac5-be65-ab5866bb55a3",
   "metadata": {},
   "outputs": [
    {
     "data": {
      "text/plain": [
       "<matplotlib.legend.Legend at 0x7fd857e4eb60>"
      ]
     },
     "execution_count": 118,
     "metadata": {},
     "output_type": "execute_result"
    },
    {
     "data": {
      "image/png": "[encoded data removed]",
      "text/plain": [
       "<Figure size 640x480 with 1 Axes>"
      ]
     },
     "metadata": {},
     "output_type": "display_data"
    }
   ],
   "source": [
    "plt.plot(topic_range, cohere_list)\n",
    "plt.xlabel(\"Num topics\")\n",
    "plt.ylabel(\"Coherende Value\")\n",
    "plt.legend(\"coherence value\")"
   ]
  },
  {
   "cell_type": "code",
   "execution_count": 89,
   "id": "b686c6d1-be5a-4111-b12c-6f49a6e6e504",
   "metadata": {},
   "outputs": [],
   "source": [
    "#### Best cohere value with understandable number of num topics\n",
    "#### == 5 getting cohere value 0.538217399506297\n"
   ]
  },
  {
   "cell_type": "markdown",
   "id": "9b77e453-93d6-4fbf-9f29-e123f0753392",
   "metadata": {},
   "source": [
    "## Topic Modelling "
   ]
  },
  {
   "cell_type": "code",
   "execution_count": 119,
   "id": "69aacb03-1458-4ef6-972a-0a330ffdd17b",
   "metadata": {},
   "outputs": [
    {
     "data": {
      "text/html": [
       "\n",
       "<link rel=\"stylesheet\" type=\"text/css\" href=\"https://cdn.jsdelivr.net/gh/bmabey/pyLDAvis@3.4.0/pyLDAvis/js/ldavis.v1.0.0.css\">\n",
       "\n",
       "\n",
       "<div id=\"ldavis_el7311405671655738723488412861\" style=\"background-color:white;\"></div>\n",
       "<script type=\"text/javascript\">\n",
       "\n",
       "var ldavis_el7311405671655738723488412861_data = {\"mdsDat\": {\"x\": [-0.06628096862545751, -0.08156064494600651, 0.04883762051212084, 0.008301177858349551, 0.037638016891443526, 0.0204023543526558, -0.02676880609734068, 0.059431250054234656], \"y\": [-0.01655385770771867, 0.025867411755677888, -0.023115836059145366, -0.06613741282455543, 0.05787029233887313, 0.07951511187713209, -0.02673025762238698, -0.030715451757876825], \"topics\": [1, 2, 3, 4, 5, 6, 7, 8], \"cluster\": [1, 1, 1, 1, 1, 1, 1, 1], \"Freq\": [14.522315269077781, 14.306658540809014, 14.252701639591617, 13.379584513926353, 12.877941392434916, 11.7405781430263, 9.861220527102207, 9.058999974031817]}, \"tinfo\": {\"Term\": [\"man\", \"say\", \"help\", \"leader\", \"young\", \"presid\", \"like\", \"former\", \"charg\", \"sunday\", \"defend\", \"lawyer\", \"critic\", \"talk\", \"day\", \"much\", \"border\", \"friday\", \"data\", \"month\", \"donald\", \"close\", \"nation\", \"kill\", \"even\", \"world\", \"cup\", \"key\", \"trump\", \"want\", \"cup\", \"close\", \"need\", \"busi\", \"find\", \"men\", \"target\", \"top\", \"final\", \"world\", \"nation\", \"polit\", \"expect\", \"search\", \"port\", \"use\", \"intern\", \"appear\", \"move\", \"rais\", \"report\", \"next\", \"case\", \"three\", \"candid\", \"new\", \"stock\", \"know\", \"week\", \"forc\", \"two\", \"thursday\", \"offici\", \"friday\", \"tuesday\", \"year\", \"said\", \"former\", \"made\", \"key\", \"forward\", \"countri\", \"premier\", \"make\", \"investig\", \"mayor\", \"search\", \"lead\", \"end\", \"elect\", \"like\", \"trade\", \"republican\", \"union\", \"show\", \"appear\", \"polic\", \"india\", \"even\", \"polit\", \"forc\", \"unit\", \"protest\", \"european\", \"leader\", \"tenni\", \"last\", \"first\", \"time\", \"local\", \"week\", \"citi\", \"new\", \"day\", \"leagu\", \"saturday\", \"state\", \"york\", \"year\", \"latest\", \"support\", \"young\", \"shoot\", \"want\", \"open\", \"help\", \"back\", \"start\", \"decis\", \"tuesday\", \"recent\", \"defens\", \"power\", \"anoth\", \"school\", \"three\", \"make\", \"health\", \"state\", \"white\", \"said\", \"warn\", \"latest\", \"way\", \"billion\", \"two\", \"america\", \"money\", \"provid\", \"saturday\", \"work\", \"local\", \"first\", \"time\", \"like\", \"govern\", \"year\", \"border\", \"talk\", \"data\", \"wall\", \"look\", \"senat\", \"congress\", \"leav\", \"know\", \"donald\", \"union\", \"parti\", \"critic\", \"bring\", \"say\", \"partial\", \"order\", \"govern\", \"trump\", \"follow\", \"american\", \"includ\", \"leagu\", \"round\", \"presid\", \"republican\", \"shutdown\", \"job\", \"minist\", \"offic\", \"thursday\", \"feder\", \"polic\", \"democrat\", \"end\", \"year\", \"new\", \"washington\", \"month\", \"ralli\", \"dollar\", \"back\", \"carolina\", \"play\", \"set\", \"meet\", \"million\", \"race\", \"point\", \"next\", \"chang\", \"test\", \"call\", \"unit\", \"stock\", \"head\", \"could\", \"score\", \"accus\", \"north\", \"start\", \"presid\", \"weekend\", \"monday\", \"nation\", \"friday\", \"compani\", \"govern\", \"week\", \"night\", \"world\", \"latest\", \"said\", \"time\", \"much\", \"march\", \"hundr\", \"sever\", \"day\", \"law\", \"score\", \"way\", \"bring\", \"secur\", \"even\", \"data\", \"weekend\", \"plan\", \"parti\", \"sunday\", \"provid\", \"set\", \"compani\", \"defens\", \"thousand\", \"peopl\", \"warn\", \"say\", \"win\", \"court\", \"point\", \"price\", \"market\", \"minist\", \"new\", \"nation\", \"china\", \"year\", \"said\", \"offici\", \"man\", \"lawyer\", \"maker\", \"help\", \"america\", \"leader\", \"season\", \"march\", \"team\", \"elect\", \"host\", \"month\", \"coach\", \"face\", \"global\", \"full\", \"top\", \"chines\", \"forward\", \"januari\", \"fund\", \"one\", \"money\", \"health\", \"announc\", \"law\", \"find\", \"busi\", \"men\", \"work\", \"trump\", \"investig\", \"citi\", \"end\", \"year\", \"new\", \"plan\", \"say\", \"use\", \"donald\", \"world\", \"govern\", \"saturday\", \"said\", \"time\", \"charg\", \"defend\", \"critic\", \"kill\", \"tri\", \"key\", \"young\", \"head\", \"white\", \"want\", \"provid\", \"coach\", \"offic\", \"long\", \"north\", \"sunday\", \"play\", \"donald\", \"like\", \"school\", \"york\", \"shoot\", \"fund\", \"dollar\", \"bank\", \"win\", \"money\", \"trump\", \"feder\", \"friday\", \"latest\", \"presid\", \"democrat\", \"time\", \"one\", \"said\", \"year\", \"polic\", \"peopl\", \"offici\"], \"Freq\": [2.0, 4.0, 2.0, 3.0, 2.0, 5.0, 4.0, 2.0, 2.0, 3.0, 2.0, 2.0, 2.0, 3.0, 3.0, 2.0, 2.0, 5.0, 2.0, 2.0, 3.0, 3.0, 3.0, 3.0, 3.0, 4.0, 2.0, 2.0, 3.0, 2.0, 1.3527346835783862, 1.6728354203423308, 1.0140572267502899, 1.083348120404257, 0.7516230543091227, 0.815853893261098, 0.7845143459591479, 0.7974680629541038, 1.0800067215769682, 1.7560051730508395, 1.290195569995955, 0.9127619479490927, 0.8710245614078674, 0.6848551313497193, 0.7343783141498752, 0.9683949711055599, 0.6947569884511967, 0.7833256593838337, 1.1901923073821132, 0.7447284129481863, 0.866433774358609, 0.6262123002115728, 0.8456121734686758, 0.6525589030543342, 0.6221967746749255, 2.1900341877767686, 0.5645501562075733, 0.7739109996029631, 1.102221868098841, 0.605856438646157, 1.0465606903233435, 1.0370000729650461, 1.1379428789781307, 1.103244939268096, 0.9810873037857357, 1.0029574662161176, 0.8115985134124583, 1.6162910004218092, 1.2839536931325242, 0.9677238568528767, 0.8884195356410609, 0.9981160624536978, 1.044270912376859, 1.1939131387445985, 1.1499308884823825, 0.6450157337205779, 0.6671835284391604, 0.6653728513782134, 1.2395379444366372, 0.7597508729117457, 1.4868610375468294, 0.8942250522196272, 0.6642687817297677, 0.7598245768673313, 1.2670152614532713, 0.7352453362717719, 1.3199975520976042, 0.6211155768274453, 0.9676801594162638, 0.7167621718332955, 0.6140312008539818, 0.7034148040073755, 0.7017392626879017, 0.7280902357134009, 0.9196219172541474, 0.5829875416669038, 0.6469692077618847, 0.9748661886797699, 1.0798527560746345, 0.9446407568995282, 0.8632488190284917, 0.7777918845541053, 1.008799305394175, 0.8105310539379403, 0.76725725546055, 0.801717295160605, 0.7718046263641719, 0.7376874980416925, 0.7736127496788233, 0.7531515668596438, 1.0626479146003645, 1.2166879271188138, 0.8780406435232518, 0.965102094852878, 1.018220741761636, 1.038799663649677, 0.7938052798944436, 0.8311574810404494, 0.645664999297159, 1.4625967081923987, 0.6888213160437693, 0.6938732216546887, 0.7302515214602351, 0.8255144220507518, 0.7635301705369599, 0.640150559452635, 0.8940063076213031, 0.7305991465015035, 1.1255680470699436, 0.6090891065630933, 1.8887590022789733, 0.7305905247785852, 1.1613351939263359, 0.6568657480856919, 0.7127981154697702, 0.9589711311498409, 0.6062033735004478, 0.5249538114560245, 0.5687228358887084, 1.1223055023138555, 0.7203954080976454, 0.9082144123015163, 0.8273367150603363, 0.9836876320003096, 0.7539448640778345, 0.7665901754743296, 0.6911205599383956, 1.4478165593212335, 1.5133834031893405, 0.9776315776243656, 0.8555225390010021, 1.0870495189228753, 0.8304892297828711, 0.7668750563450772, 0.9490001510545701, 0.9683134375152626, 1.095376927897702, 0.8059341039058318, 0.7602291172597225, 0.9136090775405645, 0.7904919265349548, 1.6359879400611244, 0.7674443253864075, 0.7259747242904265, 1.4174168893033998, 1.0438651449355874, 0.781235284200157, 0.7659406484150997, 0.8171443454399181, 0.8635977871989848, 0.5050400560010581, 1.4590358231825102, 0.5360467097146909, 0.7150700477492744, 0.5388375278047367, 0.7490266375806457, 0.4965406257438438, 0.9827873068885569, 0.957764147788515, 0.887535613410533, 0.6537602828209375, 0.7506786522254665, 0.7617286147706408, 0.753950705326095, 1.0207575093483123, 1.067853610836874, 0.7847871192363771, 0.707237709372395, 0.8578901031795194, 0.6603815048061369, 0.7626305919627634, 0.981911959158058, 0.9178558412638338, 0.9034198188812766, 0.736128271600237, 0.6733703555498642, 0.6258669337346129, 0.8023115989886359, 0.8403167756376514, 0.8078063048598227, 0.7147795526747893, 0.5269144338434155, 0.7843494685828059, 0.8320821876692819, 0.6645116652342514, 0.8088154427251627, 0.6031424950351365, 0.5896935172692856, 1.3144786935890498, 0.5674306103649672, 0.9662827097893196, 0.7989369510398115, 1.200686586407811, 0.4570455886189861, 1.064148968931578, 0.7204243777007101, 0.6140775037490827, 0.6918363525018469, 0.6823475576269343, 0.7253739039278655, 0.6741491744908634, 1.091261378894581, 0.7323909345812344, 0.8336687591358749, 0.9340247669556077, 1.4486024864575167, 0.7397337418977857, 0.9170337081701491, 0.9101258167251793, 0.8583084809451917, 0.7167146361972847, 1.069852876516132, 0.752350377145012, 0.7580534742012446, 0.8949765867793639, 0.6977650297497335, 0.9546976787901796, 0.6710016075105985, 0.826874559391775, 0.5528116039732023, 0.5767307544187877, 0.6695988859416476, 0.8544525684052432, 0.686212485951663, 1.2481120328321376, 0.5091677293140224, 0.7253304645658704, 0.5089944848174588, 0.486985098805431, 0.6950263579282155, 0.6646369097475627, 1.1317479657460907, 0.6533381202373016, 0.5954646784537823, 0.8372636406534473, 0.8529840651558094, 0.7104955895533357, 1.233928756161483, 0.9938208211904138, 0.7163203500739349, 1.0061650432724416, 0.8024942778757315, 1.0999932962631025, 0.6282275724991543, 0.5439278041051266, 0.6151095323428414, 0.5718475474766389, 0.49214017861446274, 0.47427024223993913, 0.49381743638030395, 0.4332071309121341, 0.392960303284642, 0.4309434221174179, 0.4225247645554192, 0.44745641427372074, 0.4112658729292808, 0.3761229881606446, 0.37604275086379757, 0.6693528298381066, 0.4039234757326383, 0.4834406171704491, 0.4480047758118926, 0.35622619214797235, 0.33031357913412257, 0.4118304677292158, 0.36021175128301147, 0.5149012652117189, 0.6188702216861682, 0.5137297811196048, 0.5422229693524349, 0.5927129607047534, 0.8289905304348677, 0.9176663852582171, 0.4596911596295813, 0.5458536459155569, 0.4537644055389504, 0.44549766588146356, 0.4565790184309098, 0.4587576492874701, 0.4545331384950929, 0.4548874832179758, 0.44847490476325436, 0.8912443449459826, 0.8785311149325764, 0.75245532349763, 0.8674987942571356, 0.5817578617770718, 0.5452991709101743, 0.7205267151881003, 0.7267056807791747, 0.5329179723709341, 0.5971969210666905, 0.5333424444259759, 0.5220791121337013, 0.43268062590341827, 0.4516353019976939, 0.528695441153341, 0.6780139747920405, 0.43262641026633514, 0.663164280352602, 0.9149975316400525, 0.497734943553051, 0.6526100634394749, 0.4043558976353875, 0.35335239106699806, 0.3299559630287133, 0.3299367158037836, 0.3633732105564616, 0.36965198322756815, 0.6326943287113713, 0.6712819827521116, 0.879881609832776, 0.7153661681053816, 0.8757559211284812, 0.45810551381150816, 0.7135721111370829, 0.52746528071192, 0.78260204752954, 0.6263323235833343, 0.5437073333272511, 0.4837283090079065, 0.4905453751295548], \"Total\": [2.0, 4.0, 2.0, 3.0, 2.0, 5.0, 4.0, 2.0, 2.0, 3.0, 2.0, 2.0, 2.0, 3.0, 3.0, 2.0, 2.0, 5.0, 2.0, 2.0, 3.0, 3.0, 3.0, 3.0, 3.0, 4.0, 2.0, 2.0, 3.0, 2.0, 2.473613250431998, 3.1690973043758666, 2.133491245316602, 2.308906661153265, 1.8325918838468493, 2.027674996120415, 1.9590282695776269, 2.0063379384122135, 2.7260593680698975, 4.446690637929109, 3.3568539871936243, 2.3932404566527814, 2.323791254401759, 1.8927545977241376, 2.0737150115680794, 2.7641943364357577, 2.0203061075085036, 2.32634712143612, 3.57700937298655, 2.29916833932168, 2.6974966810822267, 1.9925907187294825, 2.6999691749481816, 2.0847822350666143, 2.04554119138863, 7.215587426723744, 1.8664979472282197, 2.6010796892429147, 3.8061825743272815, 2.104535762803105, 3.7049432112805687, 3.811429883763067, 4.49083350987486, 5.047335830496703, 4.317653063713214, 5.783528793582126, 6.835889741984663, 2.6930646590071654, 2.5428039101028794, 2.0707391832400277, 1.9797186068994248, 2.469410415730457, 2.586344074379536, 3.0028371084448215, 2.967463553576706, 1.7197053106536853, 1.8927545977241376, 1.8955028695239324, 3.574915380681153, 2.2149927641434677, 4.380043568582516, 2.6355648609200117, 1.9837841504867666, 2.3625685560583256, 3.984626365328993, 2.32634712143612, 4.199069244003253, 1.9767537752240898, 3.1493256045814597, 2.3932404566527814, 2.104535762803105, 2.4412995032230858, 2.4482437894676723, 2.5433075812914967, 3.2914139895097585, 2.1457402576571845, 2.412929057431579, 3.826786235314475, 5.033170055205644, 4.357264870379184, 3.8061825743272815, 3.18203587802584, 7.215587426723744, 3.7514759757114415, 3.1712096394802542, 4.432164087389384, 3.8586279906395604, 3.2111937218739666, 5.783528793582126, 4.289779019031426, 2.206867981815046, 2.752778071091179, 2.1059640963280697, 2.4489419874430354, 2.816340675769057, 2.8857579374750486, 2.2124817052797234, 2.4001812398736804, 1.873411495281808, 4.317653063713214, 2.046816742269287, 2.075589152816593, 2.21013604893815, 2.5399533962960708, 2.4281397107150817, 2.0847822350666143, 3.0028371084448215, 2.475947779610523, 3.8586279906395604, 2.141379773575667, 6.835889741984663, 2.6716043386100736, 4.289779019031426, 2.4451814940842214, 2.704198867049338, 3.7049432112805687, 2.3631681169526604, 2.0501024393646365, 2.23818357521904, 4.432164087389384, 2.929320657311383, 4.357264870379184, 3.826786235314475, 5.033170055205644, 4.380043568582516, 4.79888411456392, 5.783528793582126, 2.7317202992107754, 3.0189226407614345, 2.2519103149056816, 2.041310611041376, 2.6208550717897854, 2.0624012170624724, 1.9149130160635934, 2.4845432436323405, 2.6010796892429147, 3.1233528587538486, 2.3625685560583256, 2.239413229696092, 2.710369173916785, 2.3727000554590414, 4.917074140662539, 2.31190586669154, 2.296492658523228, 4.79888411456392, 3.541218431282372, 2.6830439057920064, 2.651270625198635, 2.88403379819681, 3.1712096394802542, 1.8557257204384852, 5.396499061343942, 1.9837841504867666, 2.6897490365843395, 2.033261340401564, 2.827857057998847, 1.8946902796786604, 3.811429883763067, 3.8374719561691304, 4.199069244003253, 2.706718037802107, 3.574915380681153, 5.783528793582126, 7.215587426723744, 1.8682828616632097, 2.101392855591677, 1.9509472568499644, 1.796611726761736, 2.2124817052797234, 1.7250000126438363, 2.0166681075176203, 2.7698598219728514, 2.674924330630058, 2.69189415490573, 2.2039568098700473, 2.063562890829854, 1.9925907187294825, 2.5777569066468433, 2.714475168325532, 2.6258332261567148, 2.4412995032230858, 1.8664979472282197, 2.8521475593274146, 3.0531067387519277, 2.4442712548346375, 3.1035116998109036, 2.439004641278546, 2.4001812398736804, 5.396499061343942, 2.3422876533698935, 4.049496937897095, 3.3568539871936243, 5.047335830496703, 1.9342562299890254, 4.79888411456392, 3.8061825743272815, 2.807590573484977, 4.446690637929109, 4.289779019031426, 6.835889741984663, 5.033170055205644, 2.2481144063764624, 1.819827494740518, 2.0972541741019035, 2.3819328794854546, 3.7514759757114415, 1.956241035481799, 2.4442712548346375, 2.4451814940842214, 2.3727000554590414, 2.107089508404623, 3.1493256045814597, 2.2519103149056816, 2.3422876533698935, 2.791851817295195, 2.239413229696092, 3.140089925467887, 2.23818357521904, 2.7698598219728514, 1.9342562299890254, 2.075589152816593, 2.4579162586033143, 3.320365725986483, 2.6716043386100736, 4.917074140662539, 2.0064208949003786, 2.8622766225373413, 2.063562890829854, 2.043700640077757, 2.9189759396215798, 2.827857057998847, 7.215587426723744, 3.3568539871936243, 2.799537918273261, 5.783528793582126, 6.835889741984663, 4.49083350987486, 2.163949685058864, 2.219366007457767, 1.9324046190115833, 2.8857579374750486, 2.3631681169526604, 3.2914139895097585, 1.9066440822297361, 1.819827494740518, 2.253734971942327, 2.2149927641434677, 1.9787180046174249, 2.101392855591677, 2.2084654785802487, 1.9582148911881243, 1.7848439967726386, 2.0021745570556484, 2.0063379384122135, 2.1383867010219237, 1.9797186068994248, 1.8404078632108938, 1.8583202943189743, 3.3374423154762116, 2.0501024393646365, 2.475947779610523, 2.4169884507227892, 1.956241035481799, 1.8325918838468493, 2.308906661153265, 2.027674996120415, 2.929320657311383, 3.541218431282372, 2.967463553576706, 3.18203587802584, 3.574915380681153, 5.783528793582126, 7.215587426723744, 2.791851817295195, 4.917074140662539, 2.7641943364357577, 3.1233528587538486, 4.446690637929109, 4.79888411456392, 4.432164087389384, 6.835889741984663, 5.033170055205644, 2.158932010613632, 2.133520656991153, 2.710369173916785, 3.177138282714396, 2.1878349836671105, 2.0707391832400277, 2.752778071091179, 2.8521475593274146, 2.141379773575667, 2.4489419874430354, 2.23818357521904, 2.2084654785802487, 1.8946902796786604, 2.0349752249769137, 2.439004641278546, 3.140089925467887, 2.0166681075176203, 3.1233528587538486, 4.380043568582516, 2.4281397107150817, 3.2111937218739666, 2.1059640963280697, 1.8583202943189743, 1.796611726761736, 1.8168365929549621, 2.0064208949003786, 2.0501024393646365, 3.541218431282372, 3.8374719561691304, 5.047335830496703, 4.289779019031426, 5.396499061343942, 2.706718037802107, 5.033170055205644, 3.3374423154762116, 6.835889741984663, 5.783528793582126, 4.199069244003253, 3.320365725986483, 4.49083350987486], \"Category\": [\"Default\", \"Default\", \"Default\", \"Default\", \"Default\", \"Default\", \"Default\", \"Default\", \"Default\", \"Default\", \"Default\", \"Default\", \"Default\", \"Default\", \"Default\", \"Default\", \"Default\", \"Default\", \"Default\", \"Default\", \"Default\", \"Default\", \"Default\", \"Default\", \"Default\", \"Default\", \"Default\", \"Default\", \"Default\", \"Default\", \"Topic1\", \"Topic1\", \"Topic1\", \"Topic1\", \"Topic1\", \"Topic1\", \"Topic1\", \"Topic1\", \"Topic1\", \"Topic1\", \"Topic1\", \"Topic1\", \"Topic1\", \"Topic1\", \"Topic1\", \"Topic1\", \"Topic1\", \"Topic1\", \"Topic1\", \"Topic1\", \"Topic1\", \"Topic1\", \"Topic1\", \"Topic1\", \"Topic1\", \"Topic1\", \"Topic1\", \"Topic1\", \"Topic1\", \"Topic1\", \"Topic1\", \"Topic1\", \"Topic1\", \"Topic1\", \"Topic1\", \"Topic1\", \"Topic1\", \"Topic2\", \"Topic2\", \"Topic2\", \"Topic2\", \"Topic2\", \"Topic2\", \"Topic2\", \"Topic2\", \"Topic2\", \"Topic2\", \"Topic2\", \"Topic2\", \"Topic2\", \"Topic2\", \"Topic2\", \"Topic2\", \"Topic2\", \"Topic2\", \"Topic2\", \"Topic2\", \"Topic2\", \"Topic2\", \"Topic2\", \"Topic2\", \"Topic2\", \"Topic2\", \"Topic2\", \"Topic2\", \"Topic2\", \"Topic2\", \"Topic2\", \"Topic2\", \"Topic2\", \"Topic2\", \"Topic2\", \"Topic2\", \"Topic2\", \"Topic2\", \"Topic2\", \"Topic2\", \"Topic2\", \"Topic2\", \"Topic2\", \"Topic3\", \"Topic3\", \"Topic3\", \"Topic3\", \"Topic3\", \"Topic3\", \"Topic3\", \"Topic3\", \"Topic3\", \"Topic3\", \"Topic3\", \"Topic3\", \"Topic3\", \"Topic3\", \"Topic3\", \"Topic3\", \"Topic3\", \"Topic3\", \"Topic3\", \"Topic3\", \"Topic3\", \"Topic3\", \"Topic3\", \"Topic3\", \"Topic3\", \"Topic3\", \"Topic3\", \"Topic3\", \"Topic3\", \"Topic3\", \"Topic3\", \"Topic3\", \"Topic3\", \"Topic3\", \"Topic3\", \"Topic3\", \"Topic3\", \"Topic4\", \"Topic4\", \"Topic4\", \"Topic4\", \"Topic4\", \"Topic4\", \"Topic4\", \"Topic4\", \"Topic4\", \"Topic4\", \"Topic4\", \"Topic4\", \"Topic4\", \"Topic4\", \"Topic4\", \"Topic4\", \"Topic4\", \"Topic4\", \"Topic4\", \"Topic4\", \"Topic4\", \"Topic4\", \"Topic4\", \"Topic4\", \"Topic4\", \"Topic4\", \"Topic4\", \"Topic4\", \"Topic4\", \"Topic4\", \"Topic4\", \"Topic4\", \"Topic4\", \"Topic4\", \"Topic4\", \"Topic4\", \"Topic4\", \"Topic5\", \"Topic5\", \"Topic5\", \"Topic5\", \"Topic5\", \"Topic5\", \"Topic5\", \"Topic5\", \"Topic5\", \"Topic5\", \"Topic5\", \"Topic5\", \"Topic5\", \"Topic5\", \"Topic5\", \"Topic5\", \"Topic5\", \"Topic5\", \"Topic5\", \"Topic5\", \"Topic5\", \"Topic5\", \"Topic5\", \"Topic5\", \"Topic5\", \"Topic5\", \"Topic5\", \"Topic5\", \"Topic5\", \"Topic5\", \"Topic5\", \"Topic5\", \"Topic5\", \"Topic5\", \"Topic5\", \"Topic5\", \"Topic5\", \"Topic6\", \"Topic6\", \"Topic6\", \"Topic6\", \"Topic6\", \"Topic6\", \"Topic6\", \"Topic6\", \"Topic6\", \"Topic6\", \"Topic6\", \"Topic6\", \"Topic6\", \"Topic6\", \"Topic6\", \"Topic6\", \"Topic6\", \"Topic6\", \"Topic6\", \"Topic6\", \"Topic6\", \"Topic6\", \"Topic6\", \"Topic6\", \"Topic6\", \"Topic6\", \"Topic6\", \"Topic6\", \"Topic6\", \"Topic6\", \"Topic6\", \"Topic6\", \"Topic6\", \"Topic6\", \"Topic6\", \"Topic6\", \"Topic7\", \"Topic7\", \"Topic7\", \"Topic7\", \"Topic7\", \"Topic7\", \"Topic7\", \"Topic7\", \"Topic7\", \"Topic7\", \"Topic7\", \"Topic7\", \"Topic7\", \"Topic7\", \"Topic7\", \"Topic7\", \"Topic7\", \"Topic7\", \"Topic7\", \"Topic7\", \"Topic7\", \"Topic7\", \"Topic7\", \"Topic7\", \"Topic7\", \"Topic7\", \"Topic7\", \"Topic7\", \"Topic7\", \"Topic7\", \"Topic7\", \"Topic7\", \"Topic7\", \"Topic7\", \"Topic7\", \"Topic7\", \"Topic7\", \"Topic7\", \"Topic7\", \"Topic7\", \"Topic7\", \"Topic7\", \"Topic7\", \"Topic7\", \"Topic7\", \"Topic8\", \"Topic8\", \"Topic8\", \"Topic8\", \"Topic8\", \"Topic8\", \"Topic8\", \"Topic8\", \"Topic8\", \"Topic8\", \"Topic8\", \"Topic8\", \"Topic8\", \"Topic8\", \"Topic8\", \"Topic8\", \"Topic8\", \"Topic8\", \"Topic8\", \"Topic8\", \"Topic8\", \"Topic8\", \"Topic8\", \"Topic8\", \"Topic8\", \"Topic8\", \"Topic8\", \"Topic8\", \"Topic8\", \"Topic8\", \"Topic8\", \"Topic8\", \"Topic8\", \"Topic8\", \"Topic8\", \"Topic8\", \"Topic8\", \"Topic8\", \"Topic8\", \"Topic8\"], \"logprob\": [30.0, 29.0, 28.0, 27.0, 26.0, 25.0, 24.0, 23.0, 22.0, 21.0, 20.0, 19.0, 18.0, 17.0, 16.0, 15.0, 14.0, 13.0, 12.0, 11.0, 10.0, 9.0, 8.0, 7.0, 6.0, 5.0, 4.0, 3.0, 2.0, 1.0, -4.0458, -3.8334, -4.3339, -4.2679, -4.6334, -4.5514, -4.5906, -4.5742, -4.2709, -3.7849, -4.0931, -4.4392, -4.486, -4.7265, -4.6566, -4.38, -4.7121, -4.5921, -4.1738, -4.6426, -4.4913, -4.816, -4.5156, -4.7748, -4.8224, -3.564, -4.9196, -4.6042, -4.2506, -4.849, -4.3024, -4.3116, -4.2187, -4.2497, -4.367, -4.345, -4.5567, -3.8528, -4.083, -4.3658, -4.4513, -4.3348, -4.2896, -4.1557, -4.1932, -4.7714, -4.7376, -4.7404, -4.1182, -4.6077, -3.9363, -4.4447, -4.742, -4.6076, -4.0963, -4.6405, -4.0553, -4.8092, -4.3658, -4.666, -4.8207, -4.6848, -4.6871, -4.6503, -4.4167, -4.8725, -4.7684, -4.3584, -4.2561, -4.3899, -4.48, -4.5842, -4.3242, -4.543, -4.5979, -4.5539, -4.592, -4.6372, -4.5896, -4.6164, -4.2684, -4.133, -4.4592, -4.3647, -4.3111, -4.2911, -4.5601, -4.5141, -4.7666, -3.949, -4.7019, -4.6946, -4.6435, -4.5209, -4.599, -4.7752, -4.4412, -4.6431, -4.2109, -4.825, -3.6932, -4.6431, -4.1796, -4.7494, -4.6677, -4.3711, -4.8297, -4.9736, -4.8935, -4.2138, -4.6571, -4.4254, -4.5187, -4.3456, -4.6116, -4.595, -4.6986, -3.8959, -3.8516, -4.2886, -4.422, -4.1825, -4.4517, -4.5314, -4.3183, -4.2982, -4.1749, -4.4817, -4.5401, -4.3563, -4.5011, -3.7737, -4.5306, -4.5862, -3.9171, -4.223, -4.5128, -4.5326, -4.4679, -4.4126, -4.9491, -3.8882, -4.8895, -4.6013, -4.8843, -4.5549, -4.966, -4.2833, -4.3091, -4.3853, -4.691, -4.5527, -4.5381, -4.5484, -4.2072, -4.1621, -4.4701, -4.5741, -4.381, -4.6427, -4.4987, -4.246, -4.3135, -4.3293, -4.5341, -4.6232, -4.6964, -4.448, -4.4017, -4.4412, -4.5635, -4.8685, -4.4706, -4.4116, -4.6364, -4.4399, -4.7333, -4.7559, -3.9543, -4.7944, -4.262, -4.4522, -4.0448, -5.0107, -4.1656, -4.5557, -4.7154, -4.5961, -4.61, -4.5488, -4.622, -4.0479, -4.4467, -4.3172, -4.2035, -3.7647, -4.4367, -4.2219, -4.2294, -4.2881, -4.4684, -4.0678, -4.4198, -4.4123, -4.2462, -4.4951, -4.1816, -4.5343, -4.3254, -4.728, -4.6857, -4.5363, -4.2926, -4.5118, -3.9136, -4.8103, -4.4564, -4.8106, -4.8548, -4.4991, -4.5438, -4.0115, -4.5609, -4.6537, -4.3129, -4.2943, -4.4771, -3.7506, -3.967, -4.2945, -3.9547, -4.1809, -3.8655, -4.4257, -4.5698, -4.4468, -4.5197, -4.6698, -4.7068, -4.6664, -4.7974, -4.8949, -4.8026, -4.8223, -4.765, -4.8493, -4.9387, -4.9389, -4.3623, -4.8674, -4.6877, -4.7638, -4.993, -5.0685, -4.848, -4.9819, -4.6246, -4.4407, -4.6269, -4.5729, -4.4839, -4.1484, -4.0468, -4.738, -4.5662, -4.751, -4.7694, -4.7448, -4.7401, -4.7493, -4.7485, -4.7627, -3.9911, -4.0055, -4.1604, -4.0181, -4.4177, -4.4824, -4.2038, -4.1952, -4.5054, -4.3915, -4.5046, -4.5259, -4.7137, -4.6709, -4.5133, -4.2646, -4.7139, -4.2867, -3.9648, -4.5737, -4.3028, -4.7814, -4.9163, -4.9848, -4.9848, -4.8883, -4.8712, -4.3337, -4.2745, -4.0039, -4.2109, -4.0086, -4.6566, -4.2135, -4.5157, -4.1211, -4.3439, -4.4853, -4.6022, -4.5882], \"loglift\": [30.0, 29.0, 28.0, 27.0, 26.0, 25.0, 24.0, 23.0, 22.0, 21.0, 20.0, 19.0, 18.0, 17.0, 16.0, 15.0, 14.0, 13.0, 12.0, 11.0, 10.0, 9.0, 8.0, 7.0, 6.0, 5.0, 4.0, 3.0, 2.0, 1.0, 1.3259, 1.2906, 1.1857, 1.1728, 1.0382, 1.0191, 1.0143, 1.0069, 1.0036, 1.0004, 0.9733, 0.9656, 0.9482, 0.9129, 0.8914, 0.8806, 0.862, 0.841, 0.8291, 0.8022, 0.7938, 0.772, 0.7685, 0.768, 0.7393, 0.7372, 0.7337, 0.7173, 0.6902, 0.6843, 0.6653, 0.6278, 0.5567, 0.4089, 0.4477, 0.1774, -0.2015, 1.4339, 1.2611, 1.1837, 1.1432, 1.0386, 1.0375, 1.0221, 0.9964, 0.9638, 0.9017, 0.8976, 0.8852, 0.8744, 0.8641, 0.8635, 0.8504, 0.81, 0.7987, 0.7926, 0.7872, 0.7868, 0.7644, 0.7388, 0.7126, 0.7001, 0.6949, 0.6936, 0.6693, 0.6414, 0.6281, 0.577, 0.4052, 0.4157, 0.4608, 0.5356, -0.023, 0.4122, 0.5254, 0.2346, 0.3351, 0.4736, -0.0673, 0.2047, 1.2174, 1.1317, 1.0734, 1.017, 0.9308, 0.9265, 0.9232, 0.8877, 0.883, 0.8657, 0.8592, 0.8525, 0.8408, 0.8243, 0.7913, 0.7675, 0.7366, 0.7277, 0.7162, 0.691, 0.662, 0.6516, 0.6416, 0.6338, 0.6149, 0.5967, 0.5877, 0.5859, 0.5782, 0.5747, 0.5455, 0.3801, 0.4167, 0.3157, 0.1887, 0.114, -0.1762, 1.3766, 1.3209, 1.177, 1.1418, 1.1314, 1.1018, 1.0963, 1.049, 1.0233, 0.9636, 0.9359, 0.9311, 0.924, 0.9123, 0.911, 0.9087, 0.8598, 0.7919, 0.7899, 0.7776, 0.7698, 0.7503, 0.7107, 0.71, 0.7035, 0.7029, 0.6866, 0.6835, 0.6829, 0.6723, 0.6561, 0.6235, 0.4573, 0.5907, 0.4507, -0.0157, -0.2472, 1.4452, 1.3727, 1.139, 1.1174, 1.1023, 1.0895, 1.0772, 1.0126, 0.98, 0.9578, 0.953, 0.9298, 0.8916, 0.8825, 0.8771, 0.8708, 0.8213, 0.7849, 0.7587, 0.7497, 0.7472, 0.7049, 0.6525, 0.646, 0.6373, 0.6319, 0.6168, 0.6142, 0.6137, 0.607, 0.5434, 0.3851, 0.5297, 0.1891, 0.2112, -0.1936, 0.0393, 1.4194, 1.2319, 1.2196, 1.206, 1.1906, 1.1696, 1.1618, 1.1538, 1.1253, 1.0637, 1.0625, 1.0458, 1.014, 1.0045, 0.976, 0.9515, 0.9375, 0.9332, 0.8897, 0.8615, 0.8417, 0.7847, 0.7829, 0.771, 0.7708, 0.7694, 0.7424, 0.7078, 0.7071, 0.6941, 0.2896, 0.5055, 0.5943, 0.2095, 0.0609, 0.2983, 1.7548, 1.5131, 1.3242, 1.2629, 1.2365, 1.2205, 1.2064, 1.1089, 1.018, 0.9624, 0.9251, 0.828, 0.8187, 0.808, 0.8032, 0.7805, 0.7587, 0.7523, 0.7451, 0.7287, 0.7188, 0.7099, 0.6921, 0.6831, 0.6311, 0.6133, 0.6031, 0.5926, 0.5886, 0.578, 0.5722, 0.5628, 0.547, 0.5196, 0.374, 0.2544, 0.5127, 0.1184, 0.5096, 0.3691, 0.0404, -0.0311, 0.0392, -0.3933, -0.1014, 1.5167, 1.5141, 1.1199, 1.1033, 1.0768, 1.0671, 1.061, 1.0341, 1.0106, 0.9902, 0.9672, 0.9592, 0.9246, 0.896, 0.8725, 0.8686, 0.8621, 0.8518, 0.8355, 0.8166, 0.808, 0.7512, 0.7414, 0.7067, 0.6955, 0.6927, 0.6883, 0.6792, 0.658, 0.6546, 0.6102, 0.583, 0.625, 0.4479, 0.5565, 0.2341, 0.1785, 0.3572, 0.4751, 0.1871]}, \"token.table\": {\"Topic\": [1, 2, 5, 3, 7, 3, 4, 3, 1, 2, 3, 5, 3, 4, 4, 6, 1, 5, 1, 5, 1, 2, 5, 6, 8, 2, 6, 1, 2, 5, 7, 1, 8, 6, 4, 4, 5, 1, 2, 1, 6, 4, 8, 1, 3, 4, 6, 2, 6, 3, 8, 3, 6, 4, 5, 4, 8, 2, 7, 2, 4, 7, 1, 2, 2, 6, 1, 3, 4, 8, 1, 1, 2, 3, 6, 1, 4, 1, 2, 2, 2, 1, 2, 4, 5, 8, 3, 4, 5, 5, 8, 3, 4, 3, 7, 6, 2, 4, 2, 1, 2, 7, 4, 2, 8, 1, 3, 6, 8, 1, 4, 2, 3, 2, 3, 5, 8, 6, 7, 2, 2, 7, 2, 4, 5, 4, 6, 2, 3, 8, 1, 2, 3, 5, 6, 4, 2, 3, 2, 3, 7, 7, 6, 7, 2, 5, 6, 2, 5, 6, 1, 5, 3, 4, 6, 1, 3, 5, 6, 3, 5, 1, 2, 6, 1, 5, 6, 1, 1, 2, 4, 5, 6, 7, 1, 5, 2, 5, 2, 5, 8, 1, 2, 3, 4, 6, 2, 3, 7, 8, 1, 3, 4, 5, 4, 6, 3, 4, 1, 3, 6, 6, 5, 5, 6, 1, 2, 4, 8, 1, 2, 1, 3, 2, 2, 4, 5, 8, 2, 3, 6, 8, 5, 1, 5, 3, 1, 4, 2, 4, 4, 1, 2, 3, 4, 5, 6, 8, 2, 3, 4, 6, 2, 4, 6, 7, 3, 5, 6, 1, 2, 7, 6, 4, 5, 6, 6, 3, 2, 5, 6, 3, 4, 5, 3, 5, 1, 2, 3, 1, 5, 2, 5, 6, 8, 3, 4, 1, 1, 7, 2, 4, 3, 5, 6, 1, 3, 1, 4, 6, 1, 2, 3, 5, 8, 1, 1, 2, 3, 8, 4, 7, 8, 1, 3, 1, 3, 2, 4, 1, 2, 5, 1, 4, 3, 8, 3, 6, 5, 3, 6, 1, 2, 5, 6, 5, 6, 3, 8, 6, 3, 5, 7, 1, 5, 1, 2, 3, 4, 6, 7, 8, 1, 2, 8, 3, 8], \"Freq\": [0.32221563722828234, 0.32221563722828234, 0.32221563722828234, 0.42316075306970313, 0.42316075306970313, 0.37717764097547735, 0.37717764097547735, 0.39370801112267123, 0.42985846384896836, 0.42985846384896836, 0.4519811384716378, 0.4519811384716378, 0.3697952884253446, 0.3660696888656248, 0.42146077322299047, 0.42146077322299047, 0.4331054246690573, 0.38083149761329055, 0.4888681803181597, 0.5797101406784, 0.37037459882081514, 0.3879341754148587, 0.3879341754148587, 0.3879341754148587, 0.4631919833898663, 0.3572018058668747, 0.3572018058668747, 0.31426421270284605, 0.31426421270284605, 0.31426421270284605, 0.31426421270284605, 0.6310945382580757, 0.4528030932332561, 0.5169945865991467, 0.5222169318456346, 0.3275352241398503, 0.3275352241398503, 0.4049549615689127, 0.4049549615689127, 0.3493722417065068, 0.3493722417065068, 0.36895342878877596, 0.36895342878877596, 0.40426691594789826, 0.40426691594789826, 0.4440674183962267, 0.4440674183962267, 0.2665617496884961, 0.2665617496884961, 0.5337855578011039, 0.4687088436304494, 0.4817909163973954, 0.4817909163973954, 0.3694511160874422, 0.556603291130927, 0.32016875621250773, 0.32016875621250773, 0.4514687434596192, 0.4514687434596192, 0.2797269007831629, 0.2797269007831629, 0.2797269007831629, 0.39318877801331364, 0.39318877801331364, 0.31752829829511975, 0.31752829829511975, 0.43033125204589073, 0.26058822355493627, 0.26058822355493627, 0.26058822355493627, 0.3668298686789126, 0.5456752312472701, 0.26131587669354694, 0.26131587669354694, 0.26131587669354694, 0.3727110085083794, 0.3727110085083794, 0.47516417524217547, 0.47516417524217547, 0.7426483405479491, 0.5051222918827689, 0.19812432411528105, 0.19812432411528105, 0.19812432411528105, 0.19812432411528105, 0.19812432411528105, 0.20838177712296582, 0.20838177712296582, 0.20838177712296582, 0.35061299571604815, 0.35061299571604815, 0.403885739527715, 0.403885739527715, 0.3465294115676833, 0.3465294115676833, 0.4768139276338429, 0.3467365745246231, 0.3467365745246231, 0.505879898919954, 0.49497449732170895, 0.3369881321018054, 0.3369881321018054, 0.49182069226895475, 0.4829193401533688, 0.4829193401533688, 0.31474865461179974, 0.31474865461179974, 0.31474865461179974, 0.31474865461179974, 0.38445573356926477, 0.38445573356926477, 0.41443406590015586, 0.41443406590015586, 0.2331122408785025, 0.2331122408785025, 0.2331122408785025, 0.2331122408785025, 0.5111844511296185, 0.45057912784087256, 0.5275644875447518, 0.30382079045272137, 0.30382079045272137, 0.31533708385292847, 0.31533708385292847, 0.31533708385292847, 0.40248846646678804, 0.40248846646678804, 0.2283082312634674, 0.2283082312634674, 0.2283082312634674, 0.2295017699745613, 0.2295017699745613, 0.2295017699745613, 0.2295017699745613, 0.2295017699745613, 0.38155486381667747, 0.39326665970068486, 0.39326665970068486, 0.33301839689796, 0.33301839689796, 0.5174899656943978, 0.46211795352940377, 0.5495026330188434, 0.5495026330188434, 0.34258590022144597, 0.34258590022144597, 0.34258590022144597, 0.5814949769620036, 0.3738423508093994, 0.3738423508093994, 0.49317568245074633, 0.37148563147536534, 0.353624663301637, 0.353624663301637, 0.353624663301637, 0.2469442539001648, 0.2469442539001648, 0.2469442539001648, 0.2469442539001648, 0.4877805034512899, 0.4758748452670625, 0.27956314779378694, 0.27956314779378694, 0.4448172197836728, 0.2978979734641403, 0.2978979734641403, 0.2978979734641403, 0.4687153051108976, 0.27717771010476205, 0.13858885505238103, 0.13858885505238103, 0.13858885505238103, 0.13858885505238103, 0.13858885505238103, 0.5018592080151919, 0.5018592080151919, 0.356177289325605, 0.356177289325605, 0.4100033198279573, 0.4100033198279573, 0.4100033198279573, 0.22267581236336362, 0.22267581236336362, 0.22267581236336362, 0.22267581236336362, 0.22267581236336362, 0.29963064690672037, 0.29963064690672037, 0.29963064690672037, 0.29963064690672037, 0.3550706804058534, 0.3550706804058534, 0.43544663480137374, 0.43544663480137374, 0.44654554449323713, 0.44654554449323713, 0.4325435626109868, 0.4325435626109868, 0.3011716426818914, 0.3011716426818914, 0.3011716426818914, 0.3581851994454423, 0.4958674143118826, 0.484598751239345, 0.484598751239345, 0.2381480137361663, 0.2381480137361663, 0.2381480137361663, 0.2381480137361663, 0.417843513057862, 0.417843513057862, 0.4822263398883489, 0.45246083401989917, 0.3866461581450257, 0.1853053226976677, 0.1853053226976677, 0.1853053226976677, 0.1853053226976677, 0.40845605503095445, 0.4467908759012919, 0.4467908759012919, 0.4467908759012919, 0.4537293995606762, 0.4349398793021952, 0.5125715195471858, 0.48856352371405226, 0.3707140798404257, 0.3707140798404257, 0.5040871002798502, 0.5040871002798502, 0.5388727380271005, 0.14628673629099087, 0.14628673629099087, 0.29257347258198174, 0.14628673629099087, 0.14628673629099087, 0.14628673629099087, 0.14628673629099087, 0.22562341562336338, 0.22562341562336338, 0.22562341562336338, 0.22562341562336338, 0.20337297575611857, 0.40674595151223714, 0.20337297575611857, 0.20337297575611857, 0.4118379167340014, 0.4091198953561531, 0.4091198953561531, 0.5283305089853738, 0.5283305089853738, 0.524481736953519, 0.4745882868341683, 0.48487170766138515, 0.36102910048629944, 0.36102910048629944, 0.41982711125597294, 0.4748419034035701, 0.2509645593627533, 0.2509645593627533, 0.2509645593627533, 0.3717818972694496, 0.3717818972694496, 0.3717818972694496, 0.41663520378678953, 0.41663520378678953, 0.2591594738922349, 0.2591594738922349, 0.2591594738922349, 0.5357627108484189, 0.5357627108484189, 0.3184622172407995, 0.3184622172407995, 0.3184622172407995, 0.3184622172407995, 0.4531308661144046, 0.6624879925692825, 0.5104571565042313, 0.4437078948720284, 0.4437078948720284, 0.4660396319784972, 0.4660396319784972, 0.3683953390580715, 0.3683953390580715, 0.40684868595492335, 0.47966640504687885, 0.47966640504687885, 0.2623687252545464, 0.2623687252545464, 0.2623687252545464, 0.19868194180439674, 0.19868194180439674, 0.19868194180439674, 0.19868194180439674, 0.19868194180439674, 0.49842052071815246, 0.37942530454398465, 0.37942530454398465, 0.4570728631113958, 0.4570728631113958, 0.2823886804513984, 0.2823886804513984, 0.2823886804513984, 0.23160730731338391, 0.23160730731338391, 0.2699096701280779, 0.2699096701280779, 0.42326814070038465, 0.42326814070038465, 0.40961790992041996, 0.40961790992041996, 0.40961790992041996, 0.36176906479355303, 0.48988135102567726, 0.4083396034399777, 0.4083396034399777, 0.37430692320265474, 0.37430692320265474, 0.5352508554886414, 0.4089675970554177, 0.4089675970554177, 0.2627304340955698, 0.2627304340955698, 0.2627304340955698, 0.2627304340955698, 0.42693304494914663, 0.42693304494914663, 0.46698862683764136, 0.46698862683764136, 0.49839991326927013, 0.3413760789567604, 0.3413760789567604, 0.3413760789567604, 0.44977268779179796, 0.22488634389589898, 0.17290481913216743, 0.17290481913216743, 0.17290481913216743, 0.17290481913216743, 0.17290481913216743, 0.17290481913216743, 0.17290481913216743, 0.3114106736034682, 0.3114106736034682, 0.3114106736034682, 0.3632693861164072, 0.3632693861164072], \"Term\": [\"accus\", \"accus\", \"accus\", \"america\", \"america\", \"american\", \"american\", \"anoth\", \"appear\", \"appear\", \"back\", \"back\", \"billion\", \"border\", \"bring\", \"bring\", \"busi\", \"call\", \"candid\", \"carolina\", \"case\", \"chang\", \"chang\", \"chang\", \"charg\", \"china\", \"china\", \"citi\", \"citi\", \"citi\", \"citi\", \"close\", \"coach\", \"compani\", \"congress\", \"could\", \"could\", \"countri\", \"countri\", \"court\", \"court\", \"critic\", \"critic\", \"cup\", \"cup\", \"data\", \"data\", \"day\", \"day\", \"decis\", \"defend\", \"defens\", \"defens\", \"democrat\", \"dollar\", \"donald\", \"donald\", \"elect\", \"elect\", \"end\", \"end\", \"end\", \"european\", \"european\", \"even\", \"even\", \"expect\", \"feder\", \"feder\", \"feder\", \"final\", \"find\", \"first\", \"first\", \"first\", \"follow\", \"follow\", \"forc\", \"forc\", \"former\", \"forward\", \"friday\", \"friday\", \"friday\", \"friday\", \"friday\", \"govern\", \"govern\", \"govern\", \"head\", \"head\", \"health\", \"health\", \"help\", \"help\", \"hundr\", \"includ\", \"includ\", \"india\", \"intern\", \"investig\", \"investig\", \"job\", \"key\", \"key\", \"kill\", \"kill\", \"kill\", \"kill\", \"know\", \"know\", \"last\", \"last\", \"latest\", \"latest\", \"latest\", \"latest\", \"law\", \"lawyer\", \"lead\", \"leader\", \"leader\", \"leagu\", \"leagu\", \"leagu\", \"leav\", \"leav\", \"like\", \"like\", \"like\", \"local\", \"local\", \"local\", \"local\", \"local\", \"look\", \"made\", \"made\", \"make\", \"make\", \"maker\", \"man\", \"march\", \"march\", \"market\", \"market\", \"market\", \"mayor\", \"meet\", \"meet\", \"men\", \"million\", \"minist\", \"minist\", \"minist\", \"monday\", \"monday\", \"monday\", \"monday\", \"money\", \"month\", \"move\", \"move\", \"much\", \"nation\", \"nation\", \"nation\", \"need\", \"new\", \"new\", \"new\", \"new\", \"new\", \"new\", \"next\", \"next\", \"night\", \"night\", \"north\", \"north\", \"north\", \"offici\", \"offici\", \"offici\", \"offici\", \"offici\", \"one\", \"one\", \"one\", \"one\", \"open\", \"open\", \"order\", \"order\", \"parti\", \"parti\", \"partial\", \"partial\", \"peopl\", \"peopl\", \"peopl\", \"plan\", \"play\", \"point\", \"point\", \"polic\", \"polic\", \"polic\", \"polic\", \"polit\", \"polit\", \"port\", \"power\", \"premier\", \"presid\", \"presid\", \"presid\", \"presid\", \"protest\", \"provid\", \"provid\", \"provid\", \"race\", \"rais\", \"ralli\", \"recent\", \"report\", \"report\", \"republican\", \"republican\", \"round\", \"said\", \"said\", \"said\", \"said\", \"said\", \"said\", \"said\", \"saturday\", \"saturday\", \"saturday\", \"saturday\", \"say\", \"say\", \"say\", \"say\", \"school\", \"score\", \"score\", \"search\", \"search\", \"season\", \"secur\", \"senat\", \"set\", \"set\", \"sever\", \"shoot\", \"show\", \"show\", \"show\", \"shutdown\", \"shutdown\", \"shutdown\", \"start\", \"start\", \"state\", \"state\", \"state\", \"stock\", \"stock\", \"sunday\", \"sunday\", \"sunday\", \"sunday\", \"support\", \"talk\", \"target\", \"team\", \"team\", \"tenni\", \"tenni\", \"test\", \"test\", \"thousand\", \"three\", \"three\", \"thursday\", \"thursday\", \"thursday\", \"time\", \"time\", \"time\", \"time\", \"time\", \"top\", \"trade\", \"trade\", \"tri\", \"tri\", \"trump\", \"trump\", \"trump\", \"tuesday\", \"tuesday\", \"two\", \"two\", \"union\", \"union\", \"unit\", \"unit\", \"unit\", \"use\", \"wall\", \"want\", \"want\", \"warn\", \"warn\", \"washington\", \"way\", \"way\", \"week\", \"week\", \"week\", \"week\", \"weekend\", \"weekend\", \"white\", \"white\", \"win\", \"work\", \"work\", \"work\", \"world\", \"world\", \"year\", \"year\", \"year\", \"year\", \"year\", \"year\", \"year\", \"york\", \"york\", \"york\", \"young\", \"young\"]}, \"R\": 30, \"lambda.step\": 0.01, \"plot.opts\": {\"xlab\": \"PC1\", \"ylab\": \"PC2\"}, \"topic.order\": [6, 4, 5, 8, 3, 7, 1, 2]};\n",
       "\n",
       "function LDAvis_load_lib(url, callback){\n",
       "  var s = document.createElement('script');\n",
       "  s.src = url;\n",
       "  s.async = true;\n",
       "  s.onreadystatechange = s.onload = callback;\n",
       "  s.onerror = function(){console.warn(\"failed to load library \" + url);};\n",
       "  document.getElementsByTagName(\"head\")[0].appendChild(s);\n",
       "}\n",
       "\n",
       "if(typeof(LDAvis) !== \"undefined\"){\n",
       "   // already loaded: just create the visualization\n",
       "   !function(LDAvis){\n",
       "       new LDAvis(\"#\" + \"ldavis_el7311405671655738723488412861\", ldavis_el7311405671655738723488412861_data);\n",
       "   }(LDAvis);\n",
       "}else if(typeof define === \"function\" && define.amd){\n",
       "   // require.js is available: use it to load d3/LDAvis\n",
       "   require.config({paths: {d3: \"https://d3js.org/d3.v5\"}});\n",
       "   require([\"d3\"], function(d3){\n",
       "      window.d3 = d3;\n",
       "      LDAvis_load_lib(\"https://cdn.jsdelivr.net/gh/bmabey/pyLDAvis@3.4.0/pyLDAvis/js/ldavis.v3.0.0.js\", function(){\n",
       "        new LDAvis(\"#\" + \"ldavis_el7311405671655738723488412861\", ldavis_el7311405671655738723488412861_data);\n",
       "      });\n",
       "    });\n",
       "}else{\n",
       "    // require.js not available: dynamically load d3 & LDAvis\n",
       "    LDAvis_load_lib(\"https://d3js.org/d3.v5.js\", function(){\n",
       "         LDAvis_load_lib(\"https://cdn.jsdelivr.net/gh/bmabey/pyLDAvis@3.4.0/pyLDAvis/js/ldavis.v3.0.0.js\", function(){\n",
       "                 new LDAvis(\"#\" + \"ldavis_el7311405671655738723488412861\", ldavis_el7311405671655738723488412861_data);\n",
       "            })\n",
       "         });\n",
       "}\n",
       "</script>"
      ],
      "text/plain": [
       "<IPython.core.display.HTML object>"
      ]
     },
     "execution_count": 119,
     "metadata": {},
     "output_type": "execute_result"
    }
   ],
   "source": [
    "vis = pyLDAvis.gensim.prepare(\n",
    "    best_model,\n",
    "    corpus= corpus_tfidf,\n",
    "    dictionary= dictionary\n",
    ")\n",
    "\n",
    "pyLDAvis.display(vis)\n"
   ]
  }
 ],
 "metadata": {
  "kernelspec": {
   "display_name": "Python 3 (ipykernel)",
   "language": "python",
   "name": "python3"
  },
  "language_info": {
   "codemirror_mode": {
    "name": "ipython",
    "version": 3
   },
   "file_extension": ".py",
   "mimetype": "text/x-python",
   "name": "python",
   "nbconvert_exporter": "python",
   "pygments_lexer": "ipython3",
   "version": "3.10.13"
  }
 },
 "nbformat": 4,
 "nbformat_minor": 5
}
