{
 "cells": [
  {
   "cell_type": "markdown",
   "metadata": {},
   "source": [
    "Open Share point link:\n",
    "- https://skillsoft.sharepoint.com/:f:/s/LiveBootcamp/Ep2yUw-Q7f5BvOS4GrTr0zkBsZf_dF4o5eTCK081a-QZjg?e=Kg9IZl"
   ]
  },
  {
   "cell_type": "markdown",
   "metadata": {},
   "source": [
    "# Notes"
   ]
  }
 ],
 "metadata": {
  "language_info": {
   "name": "python"
  }
 },
 "nbformat": 4,
 "nbformat_minor": 2
}
