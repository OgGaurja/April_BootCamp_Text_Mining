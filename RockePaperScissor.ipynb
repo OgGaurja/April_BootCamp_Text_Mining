{
 "cells": [
  {
   "cell_type": "markdown",
   "id": "b5e26035-4725-4b6e-8006-7eb4a4dcd5ec",
   "metadata": {},
   "source": [
    "## Rock Paper Scissor Logic"
   ]
  },
  {
   "cell_type": "code",
   "execution_count": 7,
   "id": "dac3e9c5-9348-492d-9e10-5edab37fcc82",
   "metadata": {},
   "outputs": [],
   "source": [
    "a = [\n",
    "    ['D', 'L', 'W'],\n",
    "    ['W', 'D', 'L'],\n",
    "    ['L' , 'W', 'D']\n",
    "]"
   ]
  },
  {
   "cell_type": "code",
   "execution_count": 8,
   "id": "9469016c-893c-4d46-b14c-43b283767339",
   "metadata": {},
   "outputs": [
    {
     "data": {
      "text/plain": [
       "'L'"
      ]
     },
     "execution_count": 8,
     "metadata": {},
     "output_type": "execute_result"
    }
   ],
   "source": [
    "a[1][2]"
   ]
  }
 ],
 "metadata": {
  "kernelspec": {
   "display_name": "Python 3 (ipykernel)",
   "language": "python",
   "name": "python3"
  },
  "language_info": {
   "codemirror_mode": {
    "name": "ipython",
    "version": 3
   },
   "file_extension": ".py",
   "mimetype": "text/x-python",
   "name": "python",
   "nbconvert_exporter": "python",
   "pygments_lexer": "ipython3",
   "version": "3.10.13"
  }
 },
 "nbformat": 4,
 "nbformat_minor": 5
}
