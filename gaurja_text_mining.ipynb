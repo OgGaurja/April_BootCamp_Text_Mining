{
 "cells": [
  {
   "cell_type": "code",
   "execution_count": 5,
   "id": "2862365d-9a40-4b8f-a04a-50dc49f403c4",
   "metadata": {},
   "outputs": [],
   "source": [
    "import pandas as pd \n",
    "import re\n",
    "import matplotlib.pyplot as plt"
   ]
  },
  {
   "cell_type": "code",
   "execution_count": 28,
   "id": "61b88946-e060-4c9f-8796-9a4f12914211",
   "metadata": {},
   "outputs": [],
   "source": [
    "import nltk\n",
    "from nltk.corpus import stopwords\n",
    "from nltk.stem import PorterStemmer\n",
    "from nltk.tokenize import word_tokenize"
   ]
  },
  {
   "cell_type": "code",
   "execution_count": 7,
   "id": "288adf9c-5bbb-42b8-8434-ea4932adc2ac",
   "metadata": {},
   "outputs": [],
   "source": [
    "data_dir = \"Text-Mining-main/data/NYT_article_data.csv\"\n",
    "df = pd.read_csv(data_dir)"
   ]
  },
  {
   "cell_type": "code",
   "execution_count": 8,
   "id": "49815589-c089-47f4-8b4a-3a4958c85630",
   "metadata": {},
   "outputs": [
    {
     "name": "stdout",
     "output_type": "stream",
     "text": [
      "Index(['web_url', 'headline', 'snippet', 'word_count', 'source',\n",
      "       'type_of_material', 'date', 'id'],\n",
      "      dtype='object')\n",
      "['Nick Kyrgios started his Brisbane Open title defense with a battling 7-6(5) 5-7 7-6(5) victory over American Ryan Harrison in the opening round on Tuesday.', \"British police confirmed on Tuesday they were treating a stabbing attack which injured three people at Manchester's Victoria train station as a terrorist investigation, and were searching an address in the Cheetham Hill area of the city.\", 'Marcellus Wiley is still on the fence about letting his young son play football. But the former NFL defensive end and Fox Sports personality tells PodcastOne Sports Now that he likes what the NFL is doing to try and make football a safer game, des...']\n"
     ]
    }
   ],
   "source": [
    "print(df.columns)\n",
    "reviews = list(df[\"snippet\"])\n",
    "print(reviews[:3])"
   ]
  },
  {
   "cell_type": "code",
   "execution_count": 9,
   "id": "c811b58f-c841-4446-bba9-00506d52663b",
   "metadata": {},
   "outputs": [
    {
     "name": "stdout",
     "output_type": "stream",
     "text": [
      "['i', 'me', 'my', 'myself', 'we']\n"
     ]
    },
    {
     "name": "stderr",
     "output_type": "stream",
     "text": [
      "[nltk_data] Downloading package stopwords to\n",
      "[nltk_data]     C:\\Users\\91987\\AppData\\Roaming\\nltk_data...\n",
      "[nltk_data]   Package stopwords is already up-to-date!\n"
     ]
    }
   ],
   "source": [
    "nltk.download(\"stopwords\")\n",
    "stopwords_list = stopwords.words(\"english\")\n",
    "print(stopwords_list[:5])"
   ]
  },
  {
   "cell_type": "code",
   "execution_count": 33,
   "id": "1528863a-01de-45b0-b431-d4c611fda2a4",
   "metadata": {},
   "outputs": [
    {
     "name": "stdout",
     "output_type": "stream",
     "text": [
      "[['nick', 'kyrgio', 'start', 'brisban', 'open', 'titl', 'defens', 'battl', 'victori', 'american', 'ryan', 'harrison', 'open', 'round', 'tuesday'], ['british', 'polic', 'confirm', 'tuesday', 'treat', 'stab', 'attack', 'injur', 'three', 'peopl', 'manchest', 'victoria', 'train', 'station', 'terrorist', 'investig', 'search', 'address', 'cheetham', 'hill', 'area', 'citi'], ['marcellu', 'wiley', 'still', 'fenc', 'let', 'young', 'son', 'play', 'footbal', 'former', 'nfl', 'defens', 'end', 'fox', 'sport', 'person', 'tell', 'podcaston', 'sport', 'like', 'nfl', 'tri', 'make', 'footbal', 'safer', 'game', 'de'], ['still', 'reckon', 'fallout', 'emmett', 'till', 'paint', 'chasten', 'artist', 'reveal', 'controversi', 'chang', 'even', 'move', 'forward', 'new', 'galleri', 'show'], ['far', 'arik', 'ogunbowal', 'coach', 'muffet', 'mcgraw', 'concern', 'notr', 'dame', 'victori', 'louisvil', 'thursday', 'night', 'anoth', 'atlant', 'coast', 'confer', 'game', 'januari']]\n"
     ]
    }
   ],
   "source": [
    "processed_text = [\n",
    "    [\n",
    "        PorterStemmer().stem(word.lower())\n",
    "        for word in word_tokenize(text)\n",
    "        if not word.lower() in stopwords_list\n",
    "        if word.isalpha()\n",
    "    ]\n",
    "    for text in reviews\n",
    "]\n",
    "\n",
    "print(processed_text[:5])"
   ]
  },
  {
   "cell_type": "code",
   "execution_count": 34,
   "id": "54b436db-9d0f-47e9-b03f-95e5c6d05f07",
   "metadata": {},
   "outputs": [
    {
     "name": "stdout",
     "output_type": "stream",
     "text": [
      "['nick kyrgio start brisban open titl defens battl victori american ryan harrison open round tuesday', 'british polic confirm tuesday treat stab attack injur three peopl manchest victoria train station terrorist investig search address cheetham hill area citi', 'marcellu wiley still fenc let young son play footbal former nfl defens end fox sport person tell podcaston sport like nfl tri make footbal safer game de', 'still reckon fallout emmett till paint chasten artist reveal controversi chang even move forward new galleri show', 'far arik ogunbowal coach muffet mcgraw concern notr dame victori louisvil thursday night anoth atlant coast confer game januari']\n"
     ]
    }
   ],
   "source": [
    "clean_data = [' '.join(text) for text in processed_text]\n",
    "print(clean_data[:5])"
   ]
  },
  {
   "cell_type": "code",
   "execution_count": 35,
   "id": "c0803802-74fd-483c-9a20-cc95a087192a",
   "metadata": {},
   "outputs": [
    {
     "name": "stdout",
     "output_type": "stream",
     "text": [
      "233\n",
      "27\n"
     ]
    }
   ],
   "source": [
    "word_count = [len(text.split()) for text in clean_data]\n",
    "print(len(word_count))\n",
    "print(len(set(word_count)))"
   ]
  },
  {
   "cell_type": "code",
   "execution_count": 36,
   "id": "67d1ad02-a5dd-4c2e-8928-19fc7e5120a3",
   "metadata": {},
   "outputs": [
    {
     "data": {
      "text/plain": [
       "<Axes: ylabel='Frequency'>"
      ]
     },
     "execution_count": 36,
     "metadata": {},
     "output_type": "execute_result"
    },
    {
     "data": {
      "image/png": "[encoded data removed]",
      "text/plain": [
       "<Figure size 640x480 with 1 Axes>"
      ]
     },
     "metadata": {},
     "output_type": "display_data"
    }
   ],
   "source": [
    "pd.Series(data=word_count).plot.hist(bins=28)"
   ]
  }
 ],
 "metadata": {
  "kernelspec": {
   "display_name": "Python 3 (ipykernel)",
   "language": "python",
   "name": "python3"
  },
  "language_info": {
   "codemirror_mode": {
    "name": "ipython",
    "version": 3
   },
   "file_extension": ".py",
   "mimetype": "text/x-python",
   "name": "python",
   "nbconvert_exporter": "python",
   "pygments_lexer": "ipython3",
   "version": "3.11.7"
  }
 },
 "nbformat": 4,
 "nbformat_minor": 5
}
