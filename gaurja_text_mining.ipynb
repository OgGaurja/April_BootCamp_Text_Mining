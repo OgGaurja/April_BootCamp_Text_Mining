{
 "cells": [
  {
   "cell_type": "code",
   "execution_count": 121,
   "id": "2862365d-9a40-4b8f-a04a-50dc49f403c4",
   "metadata": {},
   "outputs": [],
   "source": [
    "import pandas as pd \n",
    "import re\n",
    "import matplotlib.pyplot as plt\n",
    "import numpy as np"
   ]
  },
  {
   "cell_type": "code",
   "execution_count": 122,
   "id": "61b88946-e060-4c9f-8796-9a4f12914211",
   "metadata": {},
   "outputs": [],
   "source": [
    "import nltk\n",
    "from nltk.corpus import stopwords\n",
    "from nltk.stem import PorterStemmer\n",
    "from nltk.tokenize import word_tokenize"
   ]
  },
  {
   "cell_type": "code",
   "execution_count": 123,
   "id": "288adf9c-5bbb-42b8-8434-ea4932adc2ac",
   "metadata": {},
   "outputs": [],
   "source": [
    "data_dir = \"Text-Mining-main/data/NYT_article_data.csv\"\n",
    "df = pd.read_csv(data_dir)"
   ]
  },
  {
   "cell_type": "code",
   "execution_count": 124,
   "id": "49815589-c089-47f4-8b4a-3a4958c85630",
   "metadata": {},
   "outputs": [
    {
     "name": "stdout",
     "output_type": "stream",
     "text": [
      "Index(['web_url', 'headline', 'snippet', 'word_count', 'source',\n",
      "       'type_of_material', 'date', 'id'],\n",
      "      dtype='object')\n",
      "['Nick Kyrgios started his Brisbane Open title defense with a battling 7-6(5) 5-7 7-6(5) victory over American Ryan Harrison in the opening round on Tuesday.', \"British police confirmed on Tuesday they were treating a stabbing attack which injured three people at Manchester's Victoria train station as a terrorist investigation, and were searching an address in the Cheetham Hill area of the city.\", 'Marcellus Wiley is still on the fence about letting his young son play football. But the former NFL defensive end and Fox Sports personality tells PodcastOne Sports Now that he likes what the NFL is doing to try and make football a safer game, des...']\n"
     ]
    }
   ],
   "source": [
    "print(df.columns)\n",
    "reviews = list(df[\"snippet\"])\n",
    "print(reviews[:3])"
   ]
  },
  {
   "cell_type": "code",
   "execution_count": 125,
   "id": "c811b58f-c841-4446-bba9-00506d52663b",
   "metadata": {},
   "outputs": [
    {
     "name": "stdout",
     "output_type": "stream",
     "text": [
      "['i', 'me', 'my', 'myself', 'we']\n"
     ]
    },
    {
     "name": "stderr",
     "output_type": "stream",
     "text": [
      "[nltk_data] Downloading package stopwords to\n",
      "[nltk_data]     C:\\Users\\91987\\AppData\\Roaming\\nltk_data...\n",
      "[nltk_data]   Package stopwords is already up-to-date!\n"
     ]
    }
   ],
   "source": [
    "nltk.download(\"stopwords\")\n",
    "stopwords_list = stopwords.words(\"english\")\n",
    "print(stopwords_list[:5])"
   ]
  },
  {
   "cell_type": "code",
   "execution_count": 126,
   "id": "1528863a-01de-45b0-b431-d4c611fda2a4",
   "metadata": {},
   "outputs": [
    {
     "name": "stdout",
     "output_type": "stream",
     "text": [
      "[['nick', 'kyrgio', 'start', 'brisban', 'open', 'titl', 'defens', 'battl', 'victori', 'american', 'ryan', 'harrison', 'open', 'round', 'tuesday'], ['british', 'polic', 'confirm', 'tuesday', 'treat', 'stab', 'attack', 'injur', 'three', 'peopl', 'manchest', 'victoria', 'train', 'station', 'terrorist', 'investig', 'search', 'address', 'cheetham', 'hill', 'area', 'citi'], ['marcellu', 'wiley', 'still', 'fenc', 'let', 'young', 'son', 'play', 'footbal', 'former', 'nfl', 'defens', 'end', 'fox', 'sport', 'person', 'tell', 'podcaston', 'sport', 'like', 'nfl', 'tri', 'make', 'footbal', 'safer', 'game', 'de'], ['still', 'reckon', 'fallout', 'emmett', 'till', 'paint', 'chasten', 'artist', 'reveal', 'controversi', 'chang', 'even', 'move', 'forward', 'new', 'galleri', 'show'], ['far', 'arik', 'ogunbowal', 'coach', 'muffet', 'mcgraw', 'concern', 'notr', 'dame', 'victori', 'louisvil', 'thursday', 'night', 'anoth', 'atlant', 'coast', 'confer', 'game', 'januari']]\n"
     ]
    }
   ],
   "source": [
    "processed_text = [\n",
    "    [\n",
    "        PorterStemmer().stem(word.lower())\n",
    "        for word in word_tokenize(text)\n",
    "        if not word.lower() in stopwords_list\n",
    "        if word.isalpha()\n",
    "    ]\n",
    "    for text in reviews\n",
    "]\n",
    "\n",
    "print(processed_text[:5])"
   ]
  },
  {
   "cell_type": "code",
   "execution_count": 127,
   "id": "54b436db-9d0f-47e9-b03f-95e5c6d05f07",
   "metadata": {},
   "outputs": [
    {
     "name": "stdout",
     "output_type": "stream",
     "text": [
      "['nick kyrgio start brisban open titl defens battl victori american ryan harrison open round tuesday', 'british polic confirm tuesday treat stab attack injur three peopl manchest victoria train station terrorist investig search address cheetham hill area citi', 'marcellu wiley still fenc let young son play footbal former nfl defens end fox sport person tell podcaston sport like nfl tri make footbal safer game de', 'still reckon fallout emmett till paint chasten artist reveal controversi chang even move forward new galleri show', 'far arik ogunbowal coach muffet mcgraw concern notr dame victori louisvil thursday night anoth atlant coast confer game januari']\n"
     ]
    }
   ],
   "source": [
    "clean_data = [' '.join(text) for text in processed_text]\n",
    "print(clean_data[:5])"
   ]
  },
  {
   "cell_type": "code",
   "execution_count": 128,
   "id": "c0803802-74fd-483c-9a20-cc95a087192a",
   "metadata": {},
   "outputs": [],
   "source": [
    "word_count = [len(text.split()) for text in clean_data]\n",
    "# print(len(word_count))\n",
    "# print(len(set(word_count)))"
   ]
  },
  {
   "cell_type": "code",
   "execution_count": 129,
   "id": "e5dd37a5-cc9b-44d8-97de-968836c28144",
   "metadata": {},
   "outputs": [
    {
     "name": "stdout",
     "output_type": "stream",
     "text": [
      "[15, 22, 27, 17, 19, 12, 5, 11, 23, 13, 15, 12, 13, 21, 19, 10, 14, 15, 12, 12, 21, 8, 18, 14, 8, 24, 11, 21, 15, 12, 15, 26, 17, 25, 17, 19, 11, 16, 16, 8, 22, 18, 19, 10, 15, 6, 20, 18, 11, 9, 24, 7, 12, 16, 24, 23, 22, 19, 13, 14, 13, 19, 22, 23, 23, 13, 7, 21, 21, 23, 6, 19, 23, 23, 12, 21, 26, 6, 7, 22, 19, 14, 25, 10, 19, 13, 22, 13, 19, 14, 25, 14, 11, 17, 20, 9, 24, 24, 16, 7, 8, 11, 26, 22, 20, 14, 15, 23, 8, 23, 23, 7, 12, 24, 15, 3, 9, 19, 14, 28, 19, 11, 21, 18, 24, 22, 4, 22, 19, 9, 10, 17, 17, 8, 24, 12, 20, 19, 15, 26, 15, 19, 23, 10, 22, 21, 22, 16, 16, 18, 22, 24, 16, 18, 22, 22, 6, 17, 7, 20, 28, 14, 24, 15, 23, 22, 17, 25, 11, 24, 21, 14, 20, 23, 20, 14, 16, 15, 8, 10, 15, 19, 14, 16, 5, 8, 9, 12, 23, 25, 20, 19, 9, 15, 20, 25, 23, 18, 22, 30, 22, 15, 14, 24, 21, 10, 7, 11, 13, 19, 19, 14, 13, 15, 20, 12, 16, 13, 12, 5, 24, 27, 10, 11, 10, 13, 22, 11, 19, 6, 21, 16, 13]\n"
     ]
    }
   ],
   "source": [
    "print(word_count)"
   ]
  },
  {
   "cell_type": "code",
   "execution_count": 130,
   "id": "67d1ad02-a5dd-4c2e-8928-19fc7e5120a3",
   "metadata": {},
   "outputs": [
    {
     "data": {
      "text/plain": [
       "<Axes: xlabel='Number of words per document', ylabel='Frequency'>"
      ]
     },
     "execution_count": 130,
     "metadata": {},
     "output_type": "execute_result"
    },
    {
     "data": {
      "image/png": "[encoded data removed]",
      "text/plain": [
       "<Figure size 640x480 with 1 Axes>"
      ]
     },
     "metadata": {},
     "output_type": "display_data"
    }
   ],
   "source": [
    "pd.Series(data=word_count).plot.hist(bins=len(set(word_count)),xlabel=\"Number of words per document\", \n",
    "    ylabel=\"Frequency\",)\n"
   ]
  },
  {
   "cell_type": "code",
   "execution_count": 131,
   "id": "20b7c568-8655-4415-9923-54b7253f7106",
   "metadata": {},
   "outputs": [],
   "source": [
    "\n",
    "# %pip install jupyterlab_vim"
   ]
  },
  {
   "cell_type": "code",
   "execution_count": 132,
   "id": "f2b4afe3-b4d2-4026-8276-ac8fce2eae26",
   "metadata": {},
   "outputs": [],
   "source": [
    "# %pip install nltk wordcloud \"black[jupyter]\""
   ]
  },
  {
   "cell_type": "code",
   "execution_count": 133,
   "id": "3e636d36-247e-4abc-b184-13f79f23e47f",
   "metadata": {},
   "outputs": [],
   "source": [
    "a = pd.DataFrame(clean_data)\n",
    "# print(a.isnull().sum())\n",
    "\n",
    "a = \"I love this movie\"\n",
    "a = word_tokenize(a)"
   ]
  },
  {
   "cell_type": "code",
   "execution_count": 134,
   "id": "ff342d4d-a433-4a01-adeb-ad8d141d5d21",
   "metadata": {},
   "outputs": [],
   "source": [
    "# print(a)\n",
    "# print(list(df[\"snippet\"]))"
   ]
  },
  {
   "cell_type": "code",
   "execution_count": 135,
   "id": "29ac90aa-16e1-43c3-9da1-81854c0df747",
   "metadata": {},
   "outputs": [
    {
     "name": "stdout",
     "output_type": "stream",
     "text": [
      "[15 22 27 17 19 12  5 11 23 13 15 12 13 21 19 10 14 15 12 12 21  8 18 14\n",
      "  8 24 11 21 15 12 15 26 17 25 17 19 11 16 16  8 22 18 19 10 15  6 20 18\n",
      " 11  9 24  7 12 16 24 23 22 19 13 14 13 19 22 23 23 13  7 21 21 23  6 19\n",
      " 23 23 12 21 26  6  7 22 19 14 25 10 19 13 22 13 19 14 25 14 11 17 20  9\n",
      " 24 24 16  7  8 11 26 22 20 14 15 23  8 23 23  7 12 24 15  3  9 19 14 28\n",
      " 19 11 21 18 24 22  4 22 19  9 10 17 17  8 24 12 20 19 15 26 15 19 23 10\n",
      " 22 21 22 16 16 18 22 24 16 18 22 22  6 17  7 20 28 14 24 15 23 22 17 25\n",
      " 11 24 21 14 20 23 20 14 16 15  8 10 15 19 14 16  5  8  9 12 23 25 20 19\n",
      "  9 15 20 25 23 18 22 30 22 15 14 24 21 10  7 11 13 19 19 14 13 15 20 12\n",
      " 16 13 12  5 24 27 10 11 10 13 22 11 19  6 21 16 13]\n"
     ]
    }
   ],
   "source": [
    "word_count_array = np.array(word_count)\n",
    "print(word_count_array)"
   ]
  },
  {
   "cell_type": "code",
   "execution_count": 136,
   "id": "8cc24dca-25f9-4dfe-9a3f-f35482eff7a1",
   "metadata": {},
   "outputs": [
    {
     "name": "stdout",
     "output_type": "stream",
     "text": [
      "233\n"
     ]
    }
   ],
   "source": [
    "df_array = np.array(clean_data)\n",
    "# print(df_array[:6])\n",
    "print(len(df_array))"
   ]
  },
  {
   "cell_type": "code",
   "execution_count": null,
   "id": "7ecfeabd-cb40-4a2d-85bf-933bc96ab1c5",
   "metadata": {},
   "outputs": [],
   "source": []
  },
  {
   "cell_type": "markdown",
   "id": "707791d3-6e23-45d3-8499-e4913a9d25bf",
   "metadata": {},
   "source": [
    "### Removing entries having smaller number of words in them"
   ]
  },
  {
   "cell_type": "code",
   "execution_count": 137,
   "id": "ec118247-8da5-4b1c-a02f-36a9bf1cd81e",
   "metadata": {},
   "outputs": [
    {
     "name": "stdout",
     "output_type": "stream",
     "text": [
      "233\n"
     ]
    }
   ],
   "source": [
    "mask = np.where(word_count_array >= 5,True, False)\n",
    "print(len(mask))\n",
    "# print(mask)\n",
    "## Now we got indices which we need\n",
    "## make that df array now\n",
    "\n"
   ]
  },
  {
   "cell_type": "code",
   "execution_count": 141,
   "id": "0466f639-f1d0-4d35-8185-f49224871c2d",
   "metadata": {},
   "outputs": [
    {
     "name": "stdout",
     "output_type": "stream",
     "text": [
      "231\n"
     ]
    }
   ],
   "source": [
    "df_array = df_array[mask]\n",
    "print(len(df_array))"
   ]
  },
  {
   "cell_type": "code",
   "execution_count": 139,
   "id": "4954d2aa-f5f6-4b20-80ad-db205f413a9d",
   "metadata": {},
   "outputs": [],
   "source": [
    "# a = np.array([1,2,3])\n",
    "# b = np.array([4,4,5])\n",
    "# pd.Series(a)[b]"
   ]
  }
 ],
 "metadata": {
  "kernelspec": {
   "display_name": "Python 3 (ipykernel)",
   "language": "python",
   "name": "python3"
  },
  "language_info": {
   "codemirror_mode": {
    "name": "ipython",
    "version": 3
   },
   "file_extension": ".py",
   "mimetype": "text/x-python",
   "name": "python",
   "nbconvert_exporter": "python",
   "pygments_lexer": "ipython3",
   "version": "3.11.7"
  }
 },
 "nbformat": 4,
 "nbformat_minor": 5
}
