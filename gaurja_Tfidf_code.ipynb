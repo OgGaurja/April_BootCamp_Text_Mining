{
 "cells": [
  {
   "cell_type": "code",
   "execution_count": 5,
   "id": "66234670-d9f4-4d70-9ca3-d87da537fdc9",
   "metadata": {},
   "outputs": [
    {
     "name": "stdout",
     "output_type": "stream",
     "text": [
      "The history saving thread hit an unexpected error (OperationalError('attempt to write a readonly database')).History will not be written to the database.\n"
     ]
    }
   ],
   "source": [
    "## Modules from Standard library\n",
    "\n",
    "from pathlib import Path\n",
    "from pprint import pprint\n",
    "\n",
    "## 3rd party packages\n",
    "import pandas as pd\n",
    "import numpy as np\n",
    "import matplotlib.pyplot as plt\n",
    "import nltk\n",
    "from nltk.corpus import stopwords\n",
    "from nltk.tokenize import word_tokenize\n",
    "from nltk.stem.porter import PorterStemmer\n",
    "from sklearn.feature_extraction.text import CountVectorizer\n",
    "import gensim"
   ]
  },
  {
   "cell_type": "code",
   "execution_count": 7,
   "id": "0ad3d00a-0745-421f-94c7-a72e515973bd",
   "metadata": {},
   "outputs": [
    {
     "data": {
      "text/plain": [
       "'4.3.2'"
      ]
     },
     "execution_count": 7,
     "metadata": {},
     "output_type": "execute_result"
    }
   ],
   "source": [
    "gensim.__version__"
   ]
  },
  {
   "cell_type": "code",
   "execution_count": null,
   "id": "6138f4c4-1068-4ec3-8e26-1044d4cff53e",
   "metadata": {},
   "outputs": [],
   "source": []
  },
  {
   "cell_type": "markdown",
   "id": "d2d68064-feb3-4222-8097-ec317a81001a",
   "metadata": {},
   "source": [
    "### TODO : Do research on all the unknown Libs and Packages"
   ]
  },
  {
   "cell_type": "markdown",
   "id": "3fdd71b4-ad92-4f11-96cb-032ebd2f488c",
   "metadata": {},
   "source": [
    "### Load and prepare dataset "
   ]
  },
  {
   "cell_type": "markdown",
   "id": "73602bc1-4b68-4a8c-bab6-8efab1e3fdc3",
   "metadata": {},
   "source": [
    "### Print total number of NAs"
   ]
  },
  {
   "cell_type": "markdown",
   "id": "82eb2410-3564-4a6c-9a08-dfdff4a7bcf9",
   "metadata": {},
   "source": [
    "### Tokenize : Split each document into words"
   ]
  },
  {
   "cell_type": "markdown",
   "id": "d2301ba3-559c-4ce8-bd65-4734cbf402c1",
   "metadata": {},
   "source": [
    "### Convert characters to lowercase"
   ]
  },
  {
   "cell_type": "markdown",
   "id": "5a1a8a40-7e41-4b76-9d15-cd9e3672e737",
   "metadata": {},
   "source": [
    "### Remove Stopwords"
   ]
  },
  {
   "cell_type": "markdown",
   "id": "5b6df527-59c4-417c-a25a-f927339648da",
   "metadata": {},
   "source": [
    "### Remove Non alpha characters"
   ]
  },
  {
   "cell_type": "markdown",
   "id": "1af930b0-cd86-4d9b-a848-c7b8bba123af",
   "metadata": {},
   "source": [
    "### Stem words"
   ]
  },
  {
   "cell_type": "markdown",
   "id": "c8a4397a-412f-45e8-989e-1dbf5b4e5214",
   "metadata": {},
   "source": [
    "### Clean the entire corpus"
   ]
  },
  {
   "cell_type": "markdown",
   "id": "f17f9078-0e52-4f6d-b2b0-9b79b87cdea1",
   "metadata": {},
   "source": [
    "### Create dictionary of Counts using Gensime"
   ]
  }
 ],
 "metadata": {
  "kernelspec": {
   "display_name": "Python 3 (ipykernel)",
   "language": "python",
   "name": "python3"
  },
  "language_info": {
   "codemirror_mode": {
    "name": "ipython",
    "version": 3
   },
   "file_extension": ".py",
   "mimetype": "text/x-python",
   "name": "python",
   "nbconvert_exporter": "python",
   "pygments_lexer": "ipython3",
   "version": "3.10.13"
  }
 },
 "nbformat": 4,
 "nbformat_minor": 5
}
